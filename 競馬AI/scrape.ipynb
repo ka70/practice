{
 "metadata": {
  "language_info": {
   "codemirror_mode": {
    "name": "ipython",
    "version": 3
   },
   "file_extension": ".py",
   "mimetype": "text/x-python",
   "name": "python",
   "nbconvert_exporter": "python",
   "pygments_lexer": "ipython3",
   "version": "3.7.7-final"
  },
  "orig_nbformat": 2,
  "kernelspec": {
   "name": "Python 3.7.7 64-bit (conda)",
   "display_name": "Python 3.7.7 64-bit (conda)",
   "metadata": {
    "interpreter": {
     "hash": "642a70cb2960988abd20e28b95592c88e7f37152144e9e081afcc90a8db24748"
    }
   }
  }
 },
 "nbformat": 4,
 "nbformat_minor": 2,
 "cells": [
  {
   "source": [
    "# netkeiba.comからスクレイピング"
   ],
   "cell_type": "markdown",
   "metadata": {}
  },
  {
   "cell_type": "code",
   "execution_count": 103,
   "metadata": {},
   "outputs": [
    {
     "output_type": "execute_result",
     "data": {
      "text/plain": [
       "    着順  枠番  馬番         馬名  性齢  斤量    騎手     タイム     着差     単勝  人気       馬体重  \\\n",
       "0    1   6   8   ノームストリーム  牡2  55  田辺裕信  1:39.4    NaN    3.7   2   484(-6)   \n",
       "1    2   4   4  ショウナンアストラ  牡2  54  木幡育也  1:39.5     クビ   14.0   6   466(+6)   \n",
       "2    3   3   3    ビーマイセルフ  牝2  54  嶋田純次  1:39.5    アタマ   31.2   8   436(-2)   \n",
       "3    4   5   6   サムライスピアー  牡2  55  柴田善臣  1:39.6    1/2   19.4   7   444(+4)   \n",
       "4    5   7  11    テイルウインド  牡2  55   武藤雅  1:39.8  1.1/4    5.1   3  486(+12)   \n",
       "5    6   5   7    ミエノハヤブサ  牡2  55  岩田望来  1:40.3      3    2.8   1   458(-6)   \n",
       "6    7   2   2     シゲルブイン  牡2  52   原優介  1:40.4    1/2  289.5  11   454(+2)   \n",
       "7    8   1   1   ゴールドブリーズ  牡2  55  武士沢友  1:40.7      2   10.4   5   480(+2)   \n",
       "8    9   4   5      カキエモン  牡2  55   黛弘人  1:40.8     クビ  136.2  10   446(-2)   \n",
       "9   10   7  10   ブラウンザウバー  牡2  55  野中悠太  1:40.8     クビ  293.1  12   462(-2)   \n",
       "10  11   6   9   モンサンレックス  牡2  55  木幡巧也  1:41.1  1.3/4    9.1   4   486(-2)   \n",
       "11  12   8  12    トペコンヒーロ  牡2  55  柴田大知  1:41.5      2  122.7   9   478(+2)   \n",
       "12  13   8  13  スマーティキャット  牡2  55  木幡初也  1:41.6    1/2  385.3  13    444(0)   \n",
       "\n",
       "         調教師  \n",
       "0   [東] 中舘英二  \n",
       "1   [東] 矢野英一  \n",
       "2   [東] 萱野浩二  \n",
       "3   [東] 菊川正達  \n",
       "4   [東] 武藤善則  \n",
       "5   [東] 田中博康  \n",
       "6   [東] 深山雅史  \n",
       "7   [東] 深山雅史  \n",
       "8   [東] 伊藤伸一  \n",
       "9   [東] 小西一男  \n",
       "10   [東] 牧光二  \n",
       "11  [東] 勢司和浩  \n",
       "12  [東] 小桧山悟  "
      ],
      "text/html": "<div>\n<style scoped>\n    .dataframe tbody tr th:only-of-type {\n        vertical-align: middle;\n    }\n\n    .dataframe tbody tr th {\n        vertical-align: top;\n    }\n\n    .dataframe thead th {\n        text-align: right;\n    }\n</style>\n<table border=\"1\" class=\"dataframe\">\n  <thead>\n    <tr style=\"text-align: right;\">\n      <th></th>\n      <th>着順</th>\n      <th>枠番</th>\n      <th>馬番</th>\n      <th>馬名</th>\n      <th>性齢</th>\n      <th>斤量</th>\n      <th>騎手</th>\n      <th>タイム</th>\n      <th>着差</th>\n      <th>単勝</th>\n      <th>人気</th>\n      <th>馬体重</th>\n      <th>調教師</th>\n    </tr>\n  </thead>\n  <tbody>\n    <tr>\n      <th>0</th>\n      <td>1</td>\n      <td>6</td>\n      <td>8</td>\n      <td>ノームストリーム</td>\n      <td>牡2</td>\n      <td>55</td>\n      <td>田辺裕信</td>\n      <td>1:39.4</td>\n      <td>NaN</td>\n      <td>3.7</td>\n      <td>2</td>\n      <td>484(-6)</td>\n      <td>[東] 中舘英二</td>\n    </tr>\n    <tr>\n      <th>1</th>\n      <td>2</td>\n      <td>4</td>\n      <td>4</td>\n      <td>ショウナンアストラ</td>\n      <td>牡2</td>\n      <td>54</td>\n      <td>木幡育也</td>\n      <td>1:39.5</td>\n      <td>クビ</td>\n      <td>14.0</td>\n      <td>6</td>\n      <td>466(+6)</td>\n      <td>[東] 矢野英一</td>\n    </tr>\n    <tr>\n      <th>2</th>\n      <td>3</td>\n      <td>3</td>\n      <td>3</td>\n      <td>ビーマイセルフ</td>\n      <td>牝2</td>\n      <td>54</td>\n      <td>嶋田純次</td>\n      <td>1:39.5</td>\n      <td>アタマ</td>\n      <td>31.2</td>\n      <td>8</td>\n      <td>436(-2)</td>\n      <td>[東] 萱野浩二</td>\n    </tr>\n    <tr>\n      <th>3</th>\n      <td>4</td>\n      <td>5</td>\n      <td>6</td>\n      <td>サムライスピアー</td>\n      <td>牡2</td>\n      <td>55</td>\n      <td>柴田善臣</td>\n      <td>1:39.6</td>\n      <td>1/2</td>\n      <td>19.4</td>\n      <td>7</td>\n      <td>444(+4)</td>\n      <td>[東] 菊川正達</td>\n    </tr>\n    <tr>\n      <th>4</th>\n      <td>5</td>\n      <td>7</td>\n      <td>11</td>\n      <td>テイルウインド</td>\n      <td>牡2</td>\n      <td>55</td>\n      <td>武藤雅</td>\n      <td>1:39.8</td>\n      <td>1.1/4</td>\n      <td>5.1</td>\n      <td>3</td>\n      <td>486(+12)</td>\n      <td>[東] 武藤善則</td>\n    </tr>\n    <tr>\n      <th>5</th>\n      <td>6</td>\n      <td>5</td>\n      <td>7</td>\n      <td>ミエノハヤブサ</td>\n      <td>牡2</td>\n      <td>55</td>\n      <td>岩田望来</td>\n      <td>1:40.3</td>\n      <td>3</td>\n      <td>2.8</td>\n      <td>1</td>\n      <td>458(-6)</td>\n      <td>[東] 田中博康</td>\n    </tr>\n    <tr>\n      <th>6</th>\n      <td>7</td>\n      <td>2</td>\n      <td>2</td>\n      <td>シゲルブイン</td>\n      <td>牡2</td>\n      <td>52</td>\n      <td>原優介</td>\n      <td>1:40.4</td>\n      <td>1/2</td>\n      <td>289.5</td>\n      <td>11</td>\n      <td>454(+2)</td>\n      <td>[東] 深山雅史</td>\n    </tr>\n    <tr>\n      <th>7</th>\n      <td>8</td>\n      <td>1</td>\n      <td>1</td>\n      <td>ゴールドブリーズ</td>\n      <td>牡2</td>\n      <td>55</td>\n      <td>武士沢友</td>\n      <td>1:40.7</td>\n      <td>2</td>\n      <td>10.4</td>\n      <td>5</td>\n      <td>480(+2)</td>\n      <td>[東] 深山雅史</td>\n    </tr>\n    <tr>\n      <th>8</th>\n      <td>9</td>\n      <td>4</td>\n      <td>5</td>\n      <td>カキエモン</td>\n      <td>牡2</td>\n      <td>55</td>\n      <td>黛弘人</td>\n      <td>1:40.8</td>\n      <td>クビ</td>\n      <td>136.2</td>\n      <td>10</td>\n      <td>446(-2)</td>\n      <td>[東] 伊藤伸一</td>\n    </tr>\n    <tr>\n      <th>9</th>\n      <td>10</td>\n      <td>7</td>\n      <td>10</td>\n      <td>ブラウンザウバー</td>\n      <td>牡2</td>\n      <td>55</td>\n      <td>野中悠太</td>\n      <td>1:40.8</td>\n      <td>クビ</td>\n      <td>293.1</td>\n      <td>12</td>\n      <td>462(-2)</td>\n      <td>[東] 小西一男</td>\n    </tr>\n    <tr>\n      <th>10</th>\n      <td>11</td>\n      <td>6</td>\n      <td>9</td>\n      <td>モンサンレックス</td>\n      <td>牡2</td>\n      <td>55</td>\n      <td>木幡巧也</td>\n      <td>1:41.1</td>\n      <td>1.3/4</td>\n      <td>9.1</td>\n      <td>4</td>\n      <td>486(-2)</td>\n      <td>[東] 牧光二</td>\n    </tr>\n    <tr>\n      <th>11</th>\n      <td>12</td>\n      <td>8</td>\n      <td>12</td>\n      <td>トペコンヒーロ</td>\n      <td>牡2</td>\n      <td>55</td>\n      <td>柴田大知</td>\n      <td>1:41.5</td>\n      <td>2</td>\n      <td>122.7</td>\n      <td>9</td>\n      <td>478(+2)</td>\n      <td>[東] 勢司和浩</td>\n    </tr>\n    <tr>\n      <th>12</th>\n      <td>13</td>\n      <td>8</td>\n      <td>13</td>\n      <td>スマーティキャット</td>\n      <td>牡2</td>\n      <td>55</td>\n      <td>木幡初也</td>\n      <td>1:41.6</td>\n      <td>1/2</td>\n      <td>385.3</td>\n      <td>13</td>\n      <td>444(0)</td>\n      <td>[東] 小桧山悟</td>\n    </tr>\n  </tbody>\n</table>\n</div>"
     },
     "metadata": {},
     "execution_count": 103
    }
   ],
   "source": [
    "import pandas as pd\n",
    "url =\"https://db.netkeiba.com/race/202005040601\" \n",
    "pd.read_html(url)[0]"
   ]
  },
  {
   "source": [
    "01:札幌,02:函館,03,福島,04:新潟,05:東京,06:中山,07:中京,08:京都,09:阪神,10:小倉"
   ],
   "cell_type": "markdown",
   "metadata": {}
  },
  {
   "source": [
    "### スクレイピングの関数"
   ],
   "cell_type": "markdown",
   "metadata": {}
  },
  {
   "cell_type": "code",
   "execution_count": 104,
   "metadata": {},
   "outputs": [],
   "source": [
    "import time\n",
    "from tqdm import tqdm_notebook as tqdm\n",
    "\n",
    "def scrape_race_results(race_id_list, pre_race_results={}):\n",
    "    race_results = pre_race_results #辞書型\n",
    "    for race_id in tqdm(race_id_list):\n",
    "        if race_id in race_results.keys():\n",
    "            continue\n",
    "        try:\n",
    "            url = \"https://db.netkeiba.com/race/\" + race_id\n",
    "            race_results[race_id] = pd.read_html(url)[0]\n",
    "            time.sleep(1)\n",
    "        except IndexError:\n",
    "            continue\n",
    "        except:\n",
    "            break\n",
    "    return race_results"
   ]
  },
  {
   "source": [
    "### レースIDのリスト作成"
   ],
   "cell_type": "markdown",
   "metadata": {}
  },
  {
   "source": [
    "race_id_list = []\n",
    "for place in range(1, 11, 1):\n",
    "    for kai in range(1, 6, 1):\n",
    "        for day in range(1, 9, 1):\n",
    "            for r in range(1, 13, 1):\n",
    "                race_id = (\n",
    "                    \"2019\" + str(place).zfill(2) + str(kai).zfill(2) + str(day).zfill(2) + str(r).zfill(2))\n",
    "                race_id_list.append(race_id)"
   ],
   "cell_type": "code",
   "metadata": {},
   "execution_count": 105,
   "outputs": []
  },
  {
   "source": [
    "### 実行と保存"
   ],
   "cell_type": "markdown",
   "metadata": {}
  },
  {
   "cell_type": "code",
   "execution_count": 106,
   "metadata": {},
   "outputs": [
    {
     "output_type": "display_data",
     "data": {
      "text/plain": "HBox(children=(FloatProgress(value=0.0, max=4800.0), HTML(value='')))",
      "application/vnd.jupyter.widget-view+json": {
       "version_major": 2,
       "version_minor": 0,
       "model_id": "5b94703044264ec8bbc519973ef70a00"
      }
     },
     "metadata": {}
    },
    {
     "output_type": "stream",
     "name": "stdout",
     "text": [
      "\n"
     ]
    }
   ],
   "source": [
    "results = scrape_race_results(race_id_list)\n",
    "for key in results:\n",
    "    results[key].index = [key] * len(results[key])\n",
    "results = pd.concat([results[key] for key in results], sort=False)\n",
    "results.to_pickle('results.pickle')"
   ]
  }
 ]
}