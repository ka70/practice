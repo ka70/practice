{
 "metadata": {
  "language_info": {
   "codemirror_mode": {
    "name": "ipython",
    "version": 3
   },
   "file_extension": ".py",
   "mimetype": "text/x-python",
   "name": "python",
   "nbconvert_exporter": "python",
   "pygments_lexer": "ipython3",
   "version": "3.7.9-final"
  },
  "orig_nbformat": 2,
  "kernelspec": {
   "name": "python37764bitbaseconda280a54c4007541afb95b70716bb8022d",
   "display_name": "Python 3.7.7 64-bit ('base': conda)"
  }
 },
 "nbformat": 4,
 "nbformat_minor": 2,
 "cells": [
  {
   "cell_type": "code",
   "execution_count": 309,
   "metadata": {},
   "outputs": [],
   "source": [
    "from selenium import webdriver\n",
    "import pandas as pd\n",
    "import time"
   ]
  },
  {
   "cell_type": "code",
   "execution_count": 311,
   "metadata": {},
   "outputs": [],
   "source": [
    "url=\"https://race.netkeiba.com/odds/index.html?race_id=202005040801&rf=race_submenu\"\n",
    "driver = webdriver.Chrome('C:\\\\Users\\\\shun_k\\\\chromedriver\\\\chromedriver')#chromedriverの起動\n",
    "driver.get(url)#読み込み\n",
    "time.sleep(10)#ページ読み込み待機"
   ]
  },
  {
   "source": [
    "# 単勝，複勝オッズのスクレイピング"
   ],
   "cell_type": "markdown",
   "metadata": {}
  },
  {
   "cell_type": "code",
   "execution_count": 313,
   "metadata": {},
   "outputs": [
    {
     "output_type": "error",
     "ename": "InvalidSessionIdException",
     "evalue": "Message: invalid session id\n",
     "traceback": [
      "\u001b[1;31m---------------------------------------------------------------------------\u001b[0m",
      "\u001b[1;31mInvalidSessionIdException\u001b[0m                 Traceback (most recent call last)",
      "\u001b[1;32m<ipython-input-313-7cd9714ccaff>\u001b[0m in \u001b[0;36m<module>\u001b[1;34m\u001b[0m\n\u001b[1;32m----> 1\u001b[1;33m \u001b[0mhtml\u001b[0m \u001b[1;33m=\u001b[0m \u001b[0mdriver\u001b[0m\u001b[1;33m.\u001b[0m\u001b[0mpage_source\u001b[0m\u001b[1;33m\u001b[0m\u001b[1;33m\u001b[0m\u001b[0m\n\u001b[0m\u001b[0;32m      2\u001b[0m \u001b[0mdriver\u001b[0m\u001b[1;33m.\u001b[0m\u001b[0mclose\u001b[0m\u001b[1;33m(\u001b[0m\u001b[1;33m)\u001b[0m\u001b[1;33m\u001b[0m\u001b[1;33m\u001b[0m\u001b[0m\n\u001b[0;32m      3\u001b[0m \u001b[0modds_df\u001b[0m\u001b[1;33m=\u001b[0m\u001b[0mpd\u001b[0m\u001b[1;33m.\u001b[0m\u001b[0mread_html\u001b[0m\u001b[1;33m(\u001b[0m\u001b[0mhtml\u001b[0m\u001b[1;33m)\u001b[0m\u001b[1;33m[\u001b[0m\u001b[1;36m0\u001b[0m\u001b[1;33m]\u001b[0m\u001b[1;33m\u001b[0m\u001b[1;33m\u001b[0m\u001b[0m\n",
      "\u001b[1;32m~\\anaconda3\\lib\\site-packages\\selenium\\webdriver\\remote\\webdriver.py\u001b[0m in \u001b[0;36mpage_source\u001b[1;34m(self)\u001b[0m\n\u001b[0;32m    677\u001b[0m             \u001b[0mdriver\u001b[0m\u001b[1;33m.\u001b[0m\u001b[0mpage_source\u001b[0m\u001b[1;33m\u001b[0m\u001b[1;33m\u001b[0m\u001b[0m\n\u001b[0;32m    678\u001b[0m         \"\"\"\n\u001b[1;32m--> 679\u001b[1;33m         \u001b[1;32mreturn\u001b[0m \u001b[0mself\u001b[0m\u001b[1;33m.\u001b[0m\u001b[0mexecute\u001b[0m\u001b[1;33m(\u001b[0m\u001b[0mCommand\u001b[0m\u001b[1;33m.\u001b[0m\u001b[0mGET_PAGE_SOURCE\u001b[0m\u001b[1;33m)\u001b[0m\u001b[1;33m[\u001b[0m\u001b[1;34m'value'\u001b[0m\u001b[1;33m]\u001b[0m\u001b[1;33m\u001b[0m\u001b[1;33m\u001b[0m\u001b[0m\n\u001b[0m\u001b[0;32m    680\u001b[0m \u001b[1;33m\u001b[0m\u001b[0m\n\u001b[0;32m    681\u001b[0m     \u001b[1;32mdef\u001b[0m \u001b[0mclose\u001b[0m\u001b[1;33m(\u001b[0m\u001b[0mself\u001b[0m\u001b[1;33m)\u001b[0m\u001b[1;33m:\u001b[0m\u001b[1;33m\u001b[0m\u001b[1;33m\u001b[0m\u001b[0m\n",
      "\u001b[1;32m~\\anaconda3\\lib\\site-packages\\selenium\\webdriver\\remote\\webdriver.py\u001b[0m in \u001b[0;36mexecute\u001b[1;34m(self, driver_command, params)\u001b[0m\n\u001b[0;32m    319\u001b[0m         \u001b[0mresponse\u001b[0m \u001b[1;33m=\u001b[0m \u001b[0mself\u001b[0m\u001b[1;33m.\u001b[0m\u001b[0mcommand_executor\u001b[0m\u001b[1;33m.\u001b[0m\u001b[0mexecute\u001b[0m\u001b[1;33m(\u001b[0m\u001b[0mdriver_command\u001b[0m\u001b[1;33m,\u001b[0m \u001b[0mparams\u001b[0m\u001b[1;33m)\u001b[0m\u001b[1;33m\u001b[0m\u001b[1;33m\u001b[0m\u001b[0m\n\u001b[0;32m    320\u001b[0m         \u001b[1;32mif\u001b[0m \u001b[0mresponse\u001b[0m\u001b[1;33m:\u001b[0m\u001b[1;33m\u001b[0m\u001b[1;33m\u001b[0m\u001b[0m\n\u001b[1;32m--> 321\u001b[1;33m             \u001b[0mself\u001b[0m\u001b[1;33m.\u001b[0m\u001b[0merror_handler\u001b[0m\u001b[1;33m.\u001b[0m\u001b[0mcheck_response\u001b[0m\u001b[1;33m(\u001b[0m\u001b[0mresponse\u001b[0m\u001b[1;33m)\u001b[0m\u001b[1;33m\u001b[0m\u001b[1;33m\u001b[0m\u001b[0m\n\u001b[0m\u001b[0;32m    322\u001b[0m             response['value'] = self._unwrap_value(\n\u001b[0;32m    323\u001b[0m                 response.get('value', None))\n",
      "\u001b[1;32m~\\anaconda3\\lib\\site-packages\\selenium\\webdriver\\remote\\errorhandler.py\u001b[0m in \u001b[0;36mcheck_response\u001b[1;34m(self, response)\u001b[0m\n\u001b[0;32m    240\u001b[0m                 \u001b[0malert_text\u001b[0m \u001b[1;33m=\u001b[0m \u001b[0mvalue\u001b[0m\u001b[1;33m[\u001b[0m\u001b[1;34m'alert'\u001b[0m\u001b[1;33m]\u001b[0m\u001b[1;33m.\u001b[0m\u001b[0mget\u001b[0m\u001b[1;33m(\u001b[0m\u001b[1;34m'text'\u001b[0m\u001b[1;33m)\u001b[0m\u001b[1;33m\u001b[0m\u001b[1;33m\u001b[0m\u001b[0m\n\u001b[0;32m    241\u001b[0m             \u001b[1;32mraise\u001b[0m \u001b[0mexception_class\u001b[0m\u001b[1;33m(\u001b[0m\u001b[0mmessage\u001b[0m\u001b[1;33m,\u001b[0m \u001b[0mscreen\u001b[0m\u001b[1;33m,\u001b[0m \u001b[0mstacktrace\u001b[0m\u001b[1;33m,\u001b[0m \u001b[0malert_text\u001b[0m\u001b[1;33m)\u001b[0m\u001b[1;33m\u001b[0m\u001b[1;33m\u001b[0m\u001b[0m\n\u001b[1;32m--> 242\u001b[1;33m         \u001b[1;32mraise\u001b[0m \u001b[0mexception_class\u001b[0m\u001b[1;33m(\u001b[0m\u001b[0mmessage\u001b[0m\u001b[1;33m,\u001b[0m \u001b[0mscreen\u001b[0m\u001b[1;33m,\u001b[0m \u001b[0mstacktrace\u001b[0m\u001b[1;33m)\u001b[0m\u001b[1;33m\u001b[0m\u001b[1;33m\u001b[0m\u001b[0m\n\u001b[0m\u001b[0;32m    243\u001b[0m \u001b[1;33m\u001b[0m\u001b[0m\n\u001b[0;32m    244\u001b[0m     \u001b[1;32mdef\u001b[0m \u001b[0m_value_or_default\u001b[0m\u001b[1;33m(\u001b[0m\u001b[0mself\u001b[0m\u001b[1;33m,\u001b[0m \u001b[0mobj\u001b[0m\u001b[1;33m,\u001b[0m \u001b[0mkey\u001b[0m\u001b[1;33m,\u001b[0m \u001b[0mdefault\u001b[0m\u001b[1;33m)\u001b[0m\u001b[1;33m:\u001b[0m\u001b[1;33m\u001b[0m\u001b[1;33m\u001b[0m\u001b[0m\n",
      "\u001b[1;31mInvalidSessionIdException\u001b[0m: Message: invalid session id\n"
     ]
    }
   ],
   "source": [
    "html = driver.page_source\n",
    "driver.close()\n",
    "odds_df=pd.read_html(html)[0]"
   ]
  },
  {
   "source": [
    "# 出馬表のスクレイピング"
   ],
   "cell_type": "markdown",
   "metadata": {}
  },
  {
   "cell_type": "code",
   "execution_count": 338,
   "metadata": {},
   "outputs": [],
   "source": [
    "url = \"https://race.netkeiba.com/race/shutuba.html?race_id=202005040801&rf=race_submenu\"\n",
    "driver = webdriver.Chrome('C:\\\\Users\\\\shun_k\\\\chromedriver\\\\chromedriver')\n",
    "driver.get(url)\n",
    "time.sleep(10)\n",
    "html = driver.page_source\n",
    "shutuba_df = pd.read_html(html,header=1)[0]\n",
    "driver.close()"
   ]
  },
  {
   "source": [
    "test = shutuba_df\n",
    "test"
   ],
   "cell_type": "code",
   "metadata": {},
   "execution_count": 356,
   "outputs": [
    {
     "output_type": "execute_result",
     "data": {
      "text/plain": [
       "    枠  馬番   印         馬名  性齢    斤量     騎手     厩舎  馬体重(増減)    オッズ  人気  登録  メモ\n",
       "0   1   1  --  シゲルセンチュリー  牝2  54.0    柴田善   美浦石毛  462(+2)   27.6   6 NaN NaN\n",
       "1   2   2  --   ナンヨーノワール  牡2  55.0    木幡巧   美浦杉浦  448(-2)   80.4  10 NaN NaN\n",
       "2   3   3  --    サノノバーディ  牡2  55.0     田辺   美浦尾形  456(-2)   72.8   9 NaN NaN\n",
       "3   4   4  --  カイザーレヴァンテ  牡2  55.0  Ｍデムーロ  美浦田中剛  488(-4)   43.8   7 NaN NaN\n",
       "4   4   5  --      アルビレオ  牡2  55.0     武藤    美浦林  482(-2)  198.1  11 NaN NaN\n",
       "5   5   6  --   トーセンダニエル  牡2  55.0    武士沢  美浦古賀史  548(+8)    3.4   2 NaN NaN\n",
       "6   5   7  --       センナリ  牡2  54.0    木幡育  美浦大江原  482(-4)  489.0  13 NaN NaN\n",
       "7   6   8  --   インヴァリアンス  牡2  55.0    横山典   美浦尾関  482(+4)    7.3   4 NaN NaN\n",
       "8   6   9  --    マイネルホップ  牡2  55.0    柴田大  美浦伊藤圭  444(+4)  299.5  12 NaN NaN\n",
       "9   7  10  --    ロクネンニクミ  牡2  55.0    内田博   美浦小笠   516(0)   18.7   5 NaN NaN\n",
       "10  7  11  --   セイウンスパーダ  牡2  55.0     大野   美浦栗田  488(+6)   57.9   8 NaN NaN\n",
       "11  8  12  --    ショベルヘッド  牡2  55.0   ルメール  美浦藤沢和  468(+8)    3.5   3 NaN NaN\n",
       "12  8  13  --  ノーダブルディップ  牡2  55.0    北村宏  美浦古賀慎  546(+4)    3.2   1 NaN NaN"
      ],
      "text/html": "<div>\n<style scoped>\n    .dataframe tbody tr th:only-of-type {\n        vertical-align: middle;\n    }\n\n    .dataframe tbody tr th {\n        vertical-align: top;\n    }\n\n    .dataframe thead th {\n        text-align: right;\n    }\n</style>\n<table border=\"1\" class=\"dataframe\">\n  <thead>\n    <tr style=\"text-align: right;\">\n      <th></th>\n      <th>枠</th>\n      <th>馬番</th>\n      <th>印</th>\n      <th>馬名</th>\n      <th>性齢</th>\n      <th>斤量</th>\n      <th>騎手</th>\n      <th>厩舎</th>\n      <th>馬体重(増減)</th>\n      <th>オッズ</th>\n      <th>人気</th>\n      <th>登録</th>\n      <th>メモ</th>\n    </tr>\n  </thead>\n  <tbody>\n    <tr>\n      <th>0</th>\n      <td>1</td>\n      <td>1</td>\n      <td>--</td>\n      <td>シゲルセンチュリー</td>\n      <td>牝2</td>\n      <td>54.0</td>\n      <td>柴田善</td>\n      <td>美浦石毛</td>\n      <td>462(+2)</td>\n      <td>27.6</td>\n      <td>6</td>\n      <td>NaN</td>\n      <td>NaN</td>\n    </tr>\n    <tr>\n      <th>1</th>\n      <td>2</td>\n      <td>2</td>\n      <td>--</td>\n      <td>ナンヨーノワール</td>\n      <td>牡2</td>\n      <td>55.0</td>\n      <td>木幡巧</td>\n      <td>美浦杉浦</td>\n      <td>448(-2)</td>\n      <td>80.4</td>\n      <td>10</td>\n      <td>NaN</td>\n      <td>NaN</td>\n    </tr>\n    <tr>\n      <th>2</th>\n      <td>3</td>\n      <td>3</td>\n      <td>--</td>\n      <td>サノノバーディ</td>\n      <td>牡2</td>\n      <td>55.0</td>\n      <td>田辺</td>\n      <td>美浦尾形</td>\n      <td>456(-2)</td>\n      <td>72.8</td>\n      <td>9</td>\n      <td>NaN</td>\n      <td>NaN</td>\n    </tr>\n    <tr>\n      <th>3</th>\n      <td>4</td>\n      <td>4</td>\n      <td>--</td>\n      <td>カイザーレヴァンテ</td>\n      <td>牡2</td>\n      <td>55.0</td>\n      <td>Ｍデムーロ</td>\n      <td>美浦田中剛</td>\n      <td>488(-4)</td>\n      <td>43.8</td>\n      <td>7</td>\n      <td>NaN</td>\n      <td>NaN</td>\n    </tr>\n    <tr>\n      <th>4</th>\n      <td>4</td>\n      <td>5</td>\n      <td>--</td>\n      <td>アルビレオ</td>\n      <td>牡2</td>\n      <td>55.0</td>\n      <td>武藤</td>\n      <td>美浦林</td>\n      <td>482(-2)</td>\n      <td>198.1</td>\n      <td>11</td>\n      <td>NaN</td>\n      <td>NaN</td>\n    </tr>\n    <tr>\n      <th>5</th>\n      <td>5</td>\n      <td>6</td>\n      <td>--</td>\n      <td>トーセンダニエル</td>\n      <td>牡2</td>\n      <td>55.0</td>\n      <td>武士沢</td>\n      <td>美浦古賀史</td>\n      <td>548(+8)</td>\n      <td>3.4</td>\n      <td>2</td>\n      <td>NaN</td>\n      <td>NaN</td>\n    </tr>\n    <tr>\n      <th>6</th>\n      <td>5</td>\n      <td>7</td>\n      <td>--</td>\n      <td>センナリ</td>\n      <td>牡2</td>\n      <td>54.0</td>\n      <td>木幡育</td>\n      <td>美浦大江原</td>\n      <td>482(-4)</td>\n      <td>489.0</td>\n      <td>13</td>\n      <td>NaN</td>\n      <td>NaN</td>\n    </tr>\n    <tr>\n      <th>7</th>\n      <td>6</td>\n      <td>8</td>\n      <td>--</td>\n      <td>インヴァリアンス</td>\n      <td>牡2</td>\n      <td>55.0</td>\n      <td>横山典</td>\n      <td>美浦尾関</td>\n      <td>482(+4)</td>\n      <td>7.3</td>\n      <td>4</td>\n      <td>NaN</td>\n      <td>NaN</td>\n    </tr>\n    <tr>\n      <th>8</th>\n      <td>6</td>\n      <td>9</td>\n      <td>--</td>\n      <td>マイネルホップ</td>\n      <td>牡2</td>\n      <td>55.0</td>\n      <td>柴田大</td>\n      <td>美浦伊藤圭</td>\n      <td>444(+4)</td>\n      <td>299.5</td>\n      <td>12</td>\n      <td>NaN</td>\n      <td>NaN</td>\n    </tr>\n    <tr>\n      <th>9</th>\n      <td>7</td>\n      <td>10</td>\n      <td>--</td>\n      <td>ロクネンニクミ</td>\n      <td>牡2</td>\n      <td>55.0</td>\n      <td>内田博</td>\n      <td>美浦小笠</td>\n      <td>516(0)</td>\n      <td>18.7</td>\n      <td>5</td>\n      <td>NaN</td>\n      <td>NaN</td>\n    </tr>\n    <tr>\n      <th>10</th>\n      <td>7</td>\n      <td>11</td>\n      <td>--</td>\n      <td>セイウンスパーダ</td>\n      <td>牡2</td>\n      <td>55.0</td>\n      <td>大野</td>\n      <td>美浦栗田</td>\n      <td>488(+6)</td>\n      <td>57.9</td>\n      <td>8</td>\n      <td>NaN</td>\n      <td>NaN</td>\n    </tr>\n    <tr>\n      <th>11</th>\n      <td>8</td>\n      <td>12</td>\n      <td>--</td>\n      <td>ショベルヘッド</td>\n      <td>牡2</td>\n      <td>55.0</td>\n      <td>ルメール</td>\n      <td>美浦藤沢和</td>\n      <td>468(+8)</td>\n      <td>3.5</td>\n      <td>3</td>\n      <td>NaN</td>\n      <td>NaN</td>\n    </tr>\n    <tr>\n      <th>12</th>\n      <td>8</td>\n      <td>13</td>\n      <td>--</td>\n      <td>ノーダブルディップ</td>\n      <td>牡2</td>\n      <td>55.0</td>\n      <td>北村宏</td>\n      <td>美浦古賀慎</td>\n      <td>546(+4)</td>\n      <td>3.2</td>\n      <td>1</td>\n      <td>NaN</td>\n      <td>NaN</td>\n    </tr>\n  </tbody>\n</table>\n</div>"
     },
     "metadata": {},
     "execution_count": 356
    }
   ]
  },
  {
   "source": [
    "test.columns"
   ],
   "cell_type": "markdown",
   "metadata": {}
  },
  {
   "source": [
    "# test.rename(columns={'馬体重(増減)': \"馬体重\"},inplace=True)\n",
    "test"
   ],
   "cell_type": "markdown",
   "metadata": {}
  },
  {
   "cell_type": "code",
   "execution_count": null,
   "metadata": {},
   "outputs": [],
   "source": []
  },
  {
   "cell_type": "code",
   "execution_count": 357,
   "metadata": {},
   "outputs": [],
   "source": [
    "def processing_shutubatable(results):\n",
    "    # results = pd.read_pickle(\"results.pickle\")\n",
    "    df = results.copy()\n",
    "    # 着順\n",
    "    # df = df[~(df[\"着順\"].astype(str).str.contains(\"\\D\"))]\n",
    "    # df[\"着順\"] = df[\"着順\"].astype(int)\n",
    "    # 性別\n",
    "    df[\"性別\"] = df[\"性齢\"].map(lambda x: str(x)[0])\n",
    "    df[\"性別\"] = df[\"性別\"].map({\"牡\": 1, \"牝\": 0, \"セ\": 1})  # 雄:1,牝:0\n",
    "    # df[\"性別\"]=df[\"性別\"].astype(int)\n",
    "    # df[\"性別\"] = pd.get_dummies(df[\"性別\"])\n",
    "    # 年齢\n",
    "    df[\"年齢\"] = df[\"性齢\"].map(lambda x: str(x)[1:])\n",
    "    df[\"年齢\"] = df[\"年齢\"].astype(int)\n",
    "    # 体重\n",
    "    df = df.rename(columns={'馬体重(増減)': \"馬体重\"})\n",
    "    df[\"体重\"] = df[\"馬体重\"].str.split(\"(\", expand=True)[0].astype(int)\n",
    "    # 体重変化\n",
    "    df[\"体重変化\"] = df[\"馬体重\"].str.split(\"(\", expand=True)[1].str[:-1].astype(int)\n",
    "    # 人気と単勝をint型に\n",
    "    df[\"人気\"] = df[\"人気\"].astype(int)\n",
    "    # df[\"単勝\"] = df[\"単勝\"].astype(float)\n",
    "    df = df.rename(columns={'オッズ': \"単勝\"})\n",
    "    df = df.rename(columns={'枠': \"枠番\"})\n",
    "    # いらない列の消去\n",
    "    df.drop([\"印\",\"性齢\",\"馬名\", \"厩舎\", \"馬体重\", \"登録\", \"メモ\"], axis=1, inplace=True)\n",
    "    #人気順にソート\n",
    "    df = df.sort_values(by=\"人気\",ascending=True)\n",
    "\n",
    "    return df"
   ]
  },
  {
   "cell_type": "code",
   "execution_count": 358,
   "metadata": {},
   "outputs": [
    {
     "output_type": "execute_result",
     "data": {
      "text/plain": [
       "    枠番  馬番    斤量     騎手     単勝  人気  性別  年齢   体重  体重変化\n",
       "12   8  13  55.0    北村宏    3.2   1   1   2  546     4\n",
       "5    5   6  55.0    武士沢    3.4   2   1   2  548     8\n",
       "11   8  12  55.0   ルメール    3.5   3   1   2  468     8\n",
       "7    6   8  55.0    横山典    7.3   4   1   2  482     4\n",
       "9    7  10  55.0    内田博   18.7   5   1   2  516     0\n",
       "0    1   1  54.0    柴田善   27.6   6   0   2  462     2\n",
       "3    4   4  55.0  Ｍデムーロ   43.8   7   1   2  488    -4\n",
       "10   7  11  55.0     大野   57.9   8   1   2  488     6\n",
       "2    3   3  55.0     田辺   72.8   9   1   2  456    -2\n",
       "1    2   2  55.0    木幡巧   80.4  10   1   2  448    -2\n",
       "4    4   5  55.0     武藤  198.1  11   1   2  482    -2\n",
       "8    6   9  55.0    柴田大  299.5  12   1   2  444     4\n",
       "6    5   7  54.0    木幡育  489.0  13   1   2  482    -4"
      ],
      "text/html": "<div>\n<style scoped>\n    .dataframe tbody tr th:only-of-type {\n        vertical-align: middle;\n    }\n\n    .dataframe tbody tr th {\n        vertical-align: top;\n    }\n\n    .dataframe thead th {\n        text-align: right;\n    }\n</style>\n<table border=\"1\" class=\"dataframe\">\n  <thead>\n    <tr style=\"text-align: right;\">\n      <th></th>\n      <th>枠番</th>\n      <th>馬番</th>\n      <th>斤量</th>\n      <th>騎手</th>\n      <th>単勝</th>\n      <th>人気</th>\n      <th>性別</th>\n      <th>年齢</th>\n      <th>体重</th>\n      <th>体重変化</th>\n    </tr>\n  </thead>\n  <tbody>\n    <tr>\n      <th>12</th>\n      <td>8</td>\n      <td>13</td>\n      <td>55.0</td>\n      <td>北村宏</td>\n      <td>3.2</td>\n      <td>1</td>\n      <td>1</td>\n      <td>2</td>\n      <td>546</td>\n      <td>4</td>\n    </tr>\n    <tr>\n      <th>5</th>\n      <td>5</td>\n      <td>6</td>\n      <td>55.0</td>\n      <td>武士沢</td>\n      <td>3.4</td>\n      <td>2</td>\n      <td>1</td>\n      <td>2</td>\n      <td>548</td>\n      <td>8</td>\n    </tr>\n    <tr>\n      <th>11</th>\n      <td>8</td>\n      <td>12</td>\n      <td>55.0</td>\n      <td>ルメール</td>\n      <td>3.5</td>\n      <td>3</td>\n      <td>1</td>\n      <td>2</td>\n      <td>468</td>\n      <td>8</td>\n    </tr>\n    <tr>\n      <th>7</th>\n      <td>6</td>\n      <td>8</td>\n      <td>55.0</td>\n      <td>横山典</td>\n      <td>7.3</td>\n      <td>4</td>\n      <td>1</td>\n      <td>2</td>\n      <td>482</td>\n      <td>4</td>\n    </tr>\n    <tr>\n      <th>9</th>\n      <td>7</td>\n      <td>10</td>\n      <td>55.0</td>\n      <td>内田博</td>\n      <td>18.7</td>\n      <td>5</td>\n      <td>1</td>\n      <td>2</td>\n      <td>516</td>\n      <td>0</td>\n    </tr>\n    <tr>\n      <th>0</th>\n      <td>1</td>\n      <td>1</td>\n      <td>54.0</td>\n      <td>柴田善</td>\n      <td>27.6</td>\n      <td>6</td>\n      <td>0</td>\n      <td>2</td>\n      <td>462</td>\n      <td>2</td>\n    </tr>\n    <tr>\n      <th>3</th>\n      <td>4</td>\n      <td>4</td>\n      <td>55.0</td>\n      <td>Ｍデムーロ</td>\n      <td>43.8</td>\n      <td>7</td>\n      <td>1</td>\n      <td>2</td>\n      <td>488</td>\n      <td>-4</td>\n    </tr>\n    <tr>\n      <th>10</th>\n      <td>7</td>\n      <td>11</td>\n      <td>55.0</td>\n      <td>大野</td>\n      <td>57.9</td>\n      <td>8</td>\n      <td>1</td>\n      <td>2</td>\n      <td>488</td>\n      <td>6</td>\n    </tr>\n    <tr>\n      <th>2</th>\n      <td>3</td>\n      <td>3</td>\n      <td>55.0</td>\n      <td>田辺</td>\n      <td>72.8</td>\n      <td>9</td>\n      <td>1</td>\n      <td>2</td>\n      <td>456</td>\n      <td>-2</td>\n    </tr>\n    <tr>\n      <th>1</th>\n      <td>2</td>\n      <td>2</td>\n      <td>55.0</td>\n      <td>木幡巧</td>\n      <td>80.4</td>\n      <td>10</td>\n      <td>1</td>\n      <td>2</td>\n      <td>448</td>\n      <td>-2</td>\n    </tr>\n    <tr>\n      <th>4</th>\n      <td>4</td>\n      <td>5</td>\n      <td>55.0</td>\n      <td>武藤</td>\n      <td>198.1</td>\n      <td>11</td>\n      <td>1</td>\n      <td>2</td>\n      <td>482</td>\n      <td>-2</td>\n    </tr>\n    <tr>\n      <th>8</th>\n      <td>6</td>\n      <td>9</td>\n      <td>55.0</td>\n      <td>柴田大</td>\n      <td>299.5</td>\n      <td>12</td>\n      <td>1</td>\n      <td>2</td>\n      <td>444</td>\n      <td>4</td>\n    </tr>\n    <tr>\n      <th>6</th>\n      <td>5</td>\n      <td>7</td>\n      <td>54.0</td>\n      <td>木幡育</td>\n      <td>489.0</td>\n      <td>13</td>\n      <td>1</td>\n      <td>2</td>\n      <td>482</td>\n      <td>-4</td>\n    </tr>\n  </tbody>\n</table>\n</div>"
     },
     "metadata": {},
     "execution_count": 358
    }
   ],
   "source": [
    "test = processing_shutubatable(test)"
   ]
  },
  {
   "cell_type": "code",
   "execution_count": 362,
   "metadata": {},
   "outputs": [
    {
     "output_type": "stream",
     "name": "stdout",
     "text": [
      "<class 'pandas.core.frame.DataFrame'>\nInt64Index: 13 entries, 12 to 6\nData columns (total 10 columns):\n #   Column  Non-Null Count  Dtype  \n---  ------  --------------  -----  \n 0   枠番      13 non-null     int64  \n 1   馬番      13 non-null     int64  \n 2   斤量      13 non-null     float64\n 3   騎手      13 non-null     object \n 4   単勝      13 non-null     float64\n 5   人気      13 non-null     int32  \n 6   性別      13 non-null     int64  \n 7   年齢      13 non-null     int32  \n 8   体重      13 non-null     int32  \n 9   体重変化    13 non-null     int32  \ndtypes: float64(2), int32(4), int64(3), object(1)\nmemory usage: 1.5+ KB\n"
     ]
    }
   ],
   "source": [
    "test.info()"
   ]
  },
  {
   "cell_type": "code",
   "execution_count": 363,
   "metadata": {},
   "outputs": [],
   "source": [
    "import pickle\n",
    "filename=\"finalized_model.sav\"\n",
    "model = pickle.load(open(filename, 'rb'))"
   ]
  },
  {
   "cell_type": "code",
   "execution_count": 371,
   "metadata": {},
   "outputs": [
    {
     "output_type": "error",
     "ename": "NameError",
     "evalue": "name 'X_train' is not defined",
     "traceback": [
      "\u001b[1;31m---------------------------------------------------------------------------\u001b[0m",
      "\u001b[1;31mNameError\u001b[0m                                 Traceback (most recent call last)",
      "\u001b[1;32m<ipython-input-371-ba6ee8fd753d>\u001b[0m in \u001b[0;36m<module>\u001b[1;34m\u001b[0m\n\u001b[0;32m      1\u001b[0m \u001b[1;32mfrom\u001b[0m \u001b[0msklearn\u001b[0m\u001b[1;33m.\u001b[0m\u001b[0mpreprocessing\u001b[0m \u001b[1;32mimport\u001b[0m \u001b[0mOneHotEncoder\u001b[0m\u001b[1;33m\u001b[0m\u001b[1;33m\u001b[0m\u001b[0m\n\u001b[1;32m----> 2\u001b[1;33m \u001b[0mX_train\u001b[0m \u001b[1;33m=\u001b[0m \u001b[0mpd\u001b[0m\u001b[1;33m.\u001b[0m\u001b[0mread_pickle\u001b[0m\u001b[1;33m(\u001b[0m\u001b[0mX_train\u001b[0m\u001b[1;33m.\u001b[0m\u001b[0mpickle\u001b[0m\u001b[1;33m)\u001b[0m\u001b[1;33m\u001b[0m\u001b[1;33m\u001b[0m\u001b[0m\n\u001b[0m\u001b[0;32m      3\u001b[0m \u001b[0mohe\u001b[0m \u001b[1;33m=\u001b[0m \u001b[0mOneHotEncoder\u001b[0m\u001b[1;33m(\u001b[0m\u001b[0mhandle_unknown\u001b[0m\u001b[1;33m=\u001b[0m\u001b[1;34m\"ignore\"\u001b[0m\u001b[1;33m,\u001b[0m \u001b[0msparse\u001b[0m\u001b[1;33m=\u001b[0m\u001b[1;32mFalse\u001b[0m\u001b[1;33m)\u001b[0m\u001b[1;33m\u001b[0m\u001b[1;33m\u001b[0m\u001b[0m\n\u001b[0;32m      4\u001b[0m \u001b[1;31m# ohe.fit(X_train)\u001b[0m\u001b[1;33m\u001b[0m\u001b[1;33m\u001b[0m\u001b[1;33m\u001b[0m\u001b[0m\n\u001b[0;32m      5\u001b[0m \u001b[0mX_train\u001b[0m\u001b[1;33m\u001b[0m\u001b[1;33m\u001b[0m\u001b[0m\n",
      "\u001b[1;31mNameError\u001b[0m: name 'X_train' is not defined"
     ]
    }
   ],
   "source": [
    "from sklearn.preprocessing import OneHotEncoder\n",
    "X_train = pd.read_pickle(X_train.pickle)\n",
    "ohe = OneHotEncoder(handle_unknown=\"ignore\", sparse=False)\n",
    "# ohe.fit(X_train)"
   ]
  },
  {
   "cell_type": "code",
   "execution_count": 399,
   "metadata": {},
   "outputs": [
    {
     "output_type": "execute_result",
     "data": {
      "text/plain": [
       "              枠番  馬番    斤量    騎手     単勝  人気  性別  年齢   体重  体重変化    着順  \\\n",
       "12             8  13  55.0   北村宏    3.2   1   1   2  546     4   NaN   \n",
       "5              5   6  55.0   武士沢    3.4   2   1   2  548     8   NaN   \n",
       "11             8  12  55.0  ルメール    3.5   3   1   2  468     8   NaN   \n",
       "7              6   8  55.0   横山典    7.3   4   1   2  482     4   NaN   \n",
       "9              7  10  55.0   内田博   18.7   5   1   2  516     0   NaN   \n",
       "...           ..  ..   ...   ...    ...  ..  ..  ..  ...   ...   ...   \n",
       "201910020812   7  12  52.0  大野拓弥   45.7  10   0   3  414     6  10.0   \n",
       "201910020812   3   3  55.0  藤岡康太   29.8   9   0   4  486     2  11.0   \n",
       "201910020812   5   7  55.0  松山弘平   29.6   8   0   4  476     6  12.0   \n",
       "201910020812   8  13  49.0  亀田温心  134.8  12   0   3  472     2  13.0   \n",
       "201910020812   2   2  52.0  秋山真一  149.4  13   0   3  458    -6  14.0   \n",
       "\n",
       "                     馬名  \n",
       "12                  NaN  \n",
       "5                   NaN  \n",
       "11                  NaN  \n",
       "7                   NaN  \n",
       "9                   NaN  \n",
       "...                 ...  \n",
       "201910020812  オーシャンスケイプ  \n",
       "201910020812     プリヴェット  \n",
       "201910020812  アドマイヤクィーン  \n",
       "201910020812    タムロドリーム  \n",
       "201910020812      バッカーノ  \n",
       "\n",
       "[43324 rows x 12 columns]"
      ],
      "text/html": "<div>\n<style scoped>\n    .dataframe tbody tr th:only-of-type {\n        vertical-align: middle;\n    }\n\n    .dataframe tbody tr th {\n        vertical-align: top;\n    }\n\n    .dataframe thead th {\n        text-align: right;\n    }\n</style>\n<table border=\"1\" class=\"dataframe\">\n  <thead>\n    <tr style=\"text-align: right;\">\n      <th></th>\n      <th>枠番</th>\n      <th>馬番</th>\n      <th>斤量</th>\n      <th>騎手</th>\n      <th>単勝</th>\n      <th>人気</th>\n      <th>性別</th>\n      <th>年齢</th>\n      <th>体重</th>\n      <th>体重変化</th>\n      <th>着順</th>\n      <th>馬名</th>\n    </tr>\n  </thead>\n  <tbody>\n    <tr>\n      <th>12</th>\n      <td>8</td>\n      <td>13</td>\n      <td>55.0</td>\n      <td>北村宏</td>\n      <td>3.2</td>\n      <td>1</td>\n      <td>1</td>\n      <td>2</td>\n      <td>546</td>\n      <td>4</td>\n      <td>NaN</td>\n      <td>NaN</td>\n    </tr>\n    <tr>\n      <th>5</th>\n      <td>5</td>\n      <td>6</td>\n      <td>55.0</td>\n      <td>武士沢</td>\n      <td>3.4</td>\n      <td>2</td>\n      <td>1</td>\n      <td>2</td>\n      <td>548</td>\n      <td>8</td>\n      <td>NaN</td>\n      <td>NaN</td>\n    </tr>\n    <tr>\n      <th>11</th>\n      <td>8</td>\n      <td>12</td>\n      <td>55.0</td>\n      <td>ルメール</td>\n      <td>3.5</td>\n      <td>3</td>\n      <td>1</td>\n      <td>2</td>\n      <td>468</td>\n      <td>8</td>\n      <td>NaN</td>\n      <td>NaN</td>\n    </tr>\n    <tr>\n      <th>7</th>\n      <td>6</td>\n      <td>8</td>\n      <td>55.0</td>\n      <td>横山典</td>\n      <td>7.3</td>\n      <td>4</td>\n      <td>1</td>\n      <td>2</td>\n      <td>482</td>\n      <td>4</td>\n      <td>NaN</td>\n      <td>NaN</td>\n    </tr>\n    <tr>\n      <th>9</th>\n      <td>7</td>\n      <td>10</td>\n      <td>55.0</td>\n      <td>内田博</td>\n      <td>18.7</td>\n      <td>5</td>\n      <td>1</td>\n      <td>2</td>\n      <td>516</td>\n      <td>0</td>\n      <td>NaN</td>\n      <td>NaN</td>\n    </tr>\n    <tr>\n      <th>...</th>\n      <td>...</td>\n      <td>...</td>\n      <td>...</td>\n      <td>...</td>\n      <td>...</td>\n      <td>...</td>\n      <td>...</td>\n      <td>...</td>\n      <td>...</td>\n      <td>...</td>\n      <td>...</td>\n      <td>...</td>\n    </tr>\n    <tr>\n      <th>201910020812</th>\n      <td>7</td>\n      <td>12</td>\n      <td>52.0</td>\n      <td>大野拓弥</td>\n      <td>45.7</td>\n      <td>10</td>\n      <td>0</td>\n      <td>3</td>\n      <td>414</td>\n      <td>6</td>\n      <td>10.0</td>\n      <td>オーシャンスケイプ</td>\n    </tr>\n    <tr>\n      <th>201910020812</th>\n      <td>3</td>\n      <td>3</td>\n      <td>55.0</td>\n      <td>藤岡康太</td>\n      <td>29.8</td>\n      <td>9</td>\n      <td>0</td>\n      <td>4</td>\n      <td>486</td>\n      <td>2</td>\n      <td>11.0</td>\n      <td>プリヴェット</td>\n    </tr>\n    <tr>\n      <th>201910020812</th>\n      <td>5</td>\n      <td>7</td>\n      <td>55.0</td>\n      <td>松山弘平</td>\n      <td>29.6</td>\n      <td>8</td>\n      <td>0</td>\n      <td>4</td>\n      <td>476</td>\n      <td>6</td>\n      <td>12.0</td>\n      <td>アドマイヤクィーン</td>\n    </tr>\n    <tr>\n      <th>201910020812</th>\n      <td>8</td>\n      <td>13</td>\n      <td>49.0</td>\n      <td>亀田温心</td>\n      <td>134.8</td>\n      <td>12</td>\n      <td>0</td>\n      <td>3</td>\n      <td>472</td>\n      <td>2</td>\n      <td>13.0</td>\n      <td>タムロドリーム</td>\n    </tr>\n    <tr>\n      <th>201910020812</th>\n      <td>2</td>\n      <td>2</td>\n      <td>52.0</td>\n      <td>秋山真一</td>\n      <td>149.4</td>\n      <td>13</td>\n      <td>0</td>\n      <td>3</td>\n      <td>458</td>\n      <td>-6</td>\n      <td>14.0</td>\n      <td>バッカーノ</td>\n    </tr>\n  </tbody>\n</table>\n<p>43324 rows × 12 columns</p>\n</div>"
     },
     "metadata": {},
     "execution_count": 399
    }
   ],
   "source": [
    "df = pd.read_pickle(\"organized_results.pickle\")\n",
    "df\n",
    "df_concat = pd.concat([test, df])\n",
    "df_concat"
   ]
  },
  {
   "cell_type": "code",
   "execution_count": 395,
   "metadata": {},
   "outputs": [
    {
     "output_type": "execute_result",
     "data": {
      "text/plain": [
       "Index(['枠番', '馬番', '斤量', '騎手', '単勝', '人気', '性別', '年齢', '体重', '体重変化', '着順',\n",
       "       '馬名'],\n",
       "      dtype='object')"
      ]
     },
     "metadata": {},
     "execution_count": 395
    }
   ],
   "source": [
    "df_concat.columns"
   ]
  },
  {
   "cell_type": "code",
   "execution_count": 404,
   "metadata": {},
   "outputs": [],
   "source": [
    "df_concat.drop(columns=[\"着順\",\"馬名\"],inplace=True)"
   ]
  },
  {
   "cell_type": "code",
   "execution_count": 412,
   "metadata": {},
   "outputs": [
    {
     "output_type": "execute_result",
     "data": {
      "text/plain": [
       "count     43324\n",
       "unique      199\n",
       "top        和田竜二\n",
       "freq        822\n",
       "Name: 騎手, dtype: object"
      ]
     },
     "metadata": {},
     "execution_count": 412
    }
   ],
   "source": [
    "df_concat[\"騎手\"].describe()"
   ]
  },
  {
   "cell_type": "code",
   "execution_count": 424,
   "metadata": {},
   "outputs": [
    {
     "output_type": "execute_result",
     "data": {
      "text/plain": [
       "12      北村宏\n",
       "5       武士沢\n",
       "11     ルメール\n",
       "7       横山典\n",
       "9       内田博\n",
       "0       柴田善\n",
       "3     Ｍデムーロ\n",
       "10       大野\n",
       "2        田辺\n",
       "1       木幡巧\n",
       "4        武藤\n",
       "8       柴田大\n",
       "6       木幡育\n",
       "Name: 騎手, dtype: object"
      ]
     },
     "metadata": {},
     "execution_count": 424
    }
   ],
   "source": [
    "test[\"騎手\"].head(14)"
   ]
  },
  {
   "cell_type": "code",
   "execution_count": 422,
   "metadata": {},
   "outputs": [
    {
     "output_type": "execute_result",
     "data": {
      "text/plain": [
       "Empty DataFrame\n",
       "Columns: [着順, 枠番, 馬番, 馬名, 斤量, 騎手, 単勝, 人気, 性別, 年齢, 体重, 体重変化]\n",
       "Index: []"
      ],
      "text/html": "<div>\n<style scoped>\n    .dataframe tbody tr th:only-of-type {\n        vertical-align: middle;\n    }\n\n    .dataframe tbody tr th {\n        vertical-align: top;\n    }\n\n    .dataframe thead th {\n        text-align: right;\n    }\n</style>\n<table border=\"1\" class=\"dataframe\">\n  <thead>\n    <tr style=\"text-align: right;\">\n      <th></th>\n      <th>着順</th>\n      <th>枠番</th>\n      <th>馬番</th>\n      <th>馬名</th>\n      <th>斤量</th>\n      <th>騎手</th>\n      <th>単勝</th>\n      <th>人気</th>\n      <th>性別</th>\n      <th>年齢</th>\n      <th>体重</th>\n      <th>体重変化</th>\n    </tr>\n  </thead>\n  <tbody>\n  </tbody>\n</table>\n</div>"
     },
     "metadata": {},
     "execution_count": 422
    }
   ],
   "source": [
    "df[df[\"騎手\"]==\"木幡育\"]"
   ]
  },
  {
   "cell_type": "code",
   "execution_count": 405,
   "metadata": {},
   "outputs": [],
   "source": [
    "X=pd.get_dummies(df_concat).head(13)\n"
   ]
  },
  {
   "cell_type": "code",
   "execution_count": 406,
   "metadata": {},
   "outputs": [
    {
     "output_type": "execute_result",
     "data": {
      "text/plain": [
       "    枠番  馬番    斤量     単勝  人気  性別  年齢   体重  体重変化  騎手_アヴドゥ  ...  騎手_高倉稜  騎手_高松亮  \\\n",
       "12   8  13  55.0    3.2   1   1   2  546     4        0  ...       0       0   \n",
       "5    5   6  55.0    3.4   2   1   2  548     8        0  ...       0       0   \n",
       "11   8  12  55.0    3.5   3   1   2  468     8        0  ...       0       0   \n",
       "7    6   8  55.0    7.3   4   1   2  482     4        0  ...       0       0   \n",
       "9    7  10  55.0   18.7   5   1   2  516     0        0  ...       0       0   \n",
       "0    1   1  54.0   27.6   6   0   2  462     2        0  ...       0       0   \n",
       "3    4   4  55.0   43.8   7   1   2  488    -4        0  ...       0       0   \n",
       "10   7  11  55.0   57.9   8   1   2  488     6        0  ...       0       0   \n",
       "2    3   3  55.0   72.8   9   1   2  456    -2        0  ...       0       0   \n",
       "1    2   2  55.0   80.4  10   1   2  448    -2        0  ...       0       0   \n",
       "4    4   5  55.0  198.1  11   1   2  482    -2        0  ...       0       0   \n",
       "8    6   9  55.0  299.5  12   1   2  444     4        0  ...       0       0   \n",
       "6    5   7  54.0  489.0  13   1   2  482    -4        0  ...       0       0   \n",
       "\n",
       "    騎手_高田潤  騎手_高野和馬  騎手_鮫島克駿  騎手_鮫島良太  騎手_黒岩悠  騎手_黛弘人  騎手_Ｍデムーロ  騎手_Ｍ．デム  \n",
       "12       0        0        0        0       0       0         0        0  \n",
       "5        0        0        0        0       0       0         0        0  \n",
       "11       0        0        0        0       0       0         0        0  \n",
       "7        0        0        0        0       0       0         0        0  \n",
       "9        0        0        0        0       0       0         0        0  \n",
       "0        0        0        0        0       0       0         0        0  \n",
       "3        0        0        0        0       0       0         1        0  \n",
       "10       0        0        0        0       0       0         0        0  \n",
       "2        0        0        0        0       0       0         0        0  \n",
       "1        0        0        0        0       0       0         0        0  \n",
       "4        0        0        0        0       0       0         0        0  \n",
       "8        0        0        0        0       0       0         0        0  \n",
       "6        0        0        0        0       0       0         0        0  \n",
       "\n",
       "[13 rows x 208 columns]"
      ],
      "text/html": "<div>\n<style scoped>\n    .dataframe tbody tr th:only-of-type {\n        vertical-align: middle;\n    }\n\n    .dataframe tbody tr th {\n        vertical-align: top;\n    }\n\n    .dataframe thead th {\n        text-align: right;\n    }\n</style>\n<table border=\"1\" class=\"dataframe\">\n  <thead>\n    <tr style=\"text-align: right;\">\n      <th></th>\n      <th>枠番</th>\n      <th>馬番</th>\n      <th>斤量</th>\n      <th>単勝</th>\n      <th>人気</th>\n      <th>性別</th>\n      <th>年齢</th>\n      <th>体重</th>\n      <th>体重変化</th>\n      <th>騎手_アヴドゥ</th>\n      <th>...</th>\n      <th>騎手_高倉稜</th>\n      <th>騎手_高松亮</th>\n      <th>騎手_高田潤</th>\n      <th>騎手_高野和馬</th>\n      <th>騎手_鮫島克駿</th>\n      <th>騎手_鮫島良太</th>\n      <th>騎手_黒岩悠</th>\n      <th>騎手_黛弘人</th>\n      <th>騎手_Ｍデムーロ</th>\n      <th>騎手_Ｍ．デム</th>\n    </tr>\n  </thead>\n  <tbody>\n    <tr>\n      <th>12</th>\n      <td>8</td>\n      <td>13</td>\n      <td>55.0</td>\n      <td>3.2</td>\n      <td>1</td>\n      <td>1</td>\n      <td>2</td>\n      <td>546</td>\n      <td>4</td>\n      <td>0</td>\n      <td>...</td>\n      <td>0</td>\n      <td>0</td>\n      <td>0</td>\n      <td>0</td>\n      <td>0</td>\n      <td>0</td>\n      <td>0</td>\n      <td>0</td>\n      <td>0</td>\n      <td>0</td>\n    </tr>\n    <tr>\n      <th>5</th>\n      <td>5</td>\n      <td>6</td>\n      <td>55.0</td>\n      <td>3.4</td>\n      <td>2</td>\n      <td>1</td>\n      <td>2</td>\n      <td>548</td>\n      <td>8</td>\n      <td>0</td>\n      <td>...</td>\n      <td>0</td>\n      <td>0</td>\n      <td>0</td>\n      <td>0</td>\n      <td>0</td>\n      <td>0</td>\n      <td>0</td>\n      <td>0</td>\n      <td>0</td>\n      <td>0</td>\n    </tr>\n    <tr>\n      <th>11</th>\n      <td>8</td>\n      <td>12</td>\n      <td>55.0</td>\n      <td>3.5</td>\n      <td>3</td>\n      <td>1</td>\n      <td>2</td>\n      <td>468</td>\n      <td>8</td>\n      <td>0</td>\n      <td>...</td>\n      <td>0</td>\n      <td>0</td>\n      <td>0</td>\n      <td>0</td>\n      <td>0</td>\n      <td>0</td>\n      <td>0</td>\n      <td>0</td>\n      <td>0</td>\n      <td>0</td>\n    </tr>\n    <tr>\n      <th>7</th>\n      <td>6</td>\n      <td>8</td>\n      <td>55.0</td>\n      <td>7.3</td>\n      <td>4</td>\n      <td>1</td>\n      <td>2</td>\n      <td>482</td>\n      <td>4</td>\n      <td>0</td>\n      <td>...</td>\n      <td>0</td>\n      <td>0</td>\n      <td>0</td>\n      <td>0</td>\n      <td>0</td>\n      <td>0</td>\n      <td>0</td>\n      <td>0</td>\n      <td>0</td>\n      <td>0</td>\n    </tr>\n    <tr>\n      <th>9</th>\n      <td>7</td>\n      <td>10</td>\n      <td>55.0</td>\n      <td>18.7</td>\n      <td>5</td>\n      <td>1</td>\n      <td>2</td>\n      <td>516</td>\n      <td>0</td>\n      <td>0</td>\n      <td>...</td>\n      <td>0</td>\n      <td>0</td>\n      <td>0</td>\n      <td>0</td>\n      <td>0</td>\n      <td>0</td>\n      <td>0</td>\n      <td>0</td>\n      <td>0</td>\n      <td>0</td>\n    </tr>\n    <tr>\n      <th>0</th>\n      <td>1</td>\n      <td>1</td>\n      <td>54.0</td>\n      <td>27.6</td>\n      <td>6</td>\n      <td>0</td>\n      <td>2</td>\n      <td>462</td>\n      <td>2</td>\n      <td>0</td>\n      <td>...</td>\n      <td>0</td>\n      <td>0</td>\n      <td>0</td>\n      <td>0</td>\n      <td>0</td>\n      <td>0</td>\n      <td>0</td>\n      <td>0</td>\n      <td>0</td>\n      <td>0</td>\n    </tr>\n    <tr>\n      <th>3</th>\n      <td>4</td>\n      <td>4</td>\n      <td>55.0</td>\n      <td>43.8</td>\n      <td>7</td>\n      <td>1</td>\n      <td>2</td>\n      <td>488</td>\n      <td>-4</td>\n      <td>0</td>\n      <td>...</td>\n      <td>0</td>\n      <td>0</td>\n      <td>0</td>\n      <td>0</td>\n      <td>0</td>\n      <td>0</td>\n      <td>0</td>\n      <td>0</td>\n      <td>1</td>\n      <td>0</td>\n    </tr>\n    <tr>\n      <th>10</th>\n      <td>7</td>\n      <td>11</td>\n      <td>55.0</td>\n      <td>57.9</td>\n      <td>8</td>\n      <td>1</td>\n      <td>2</td>\n      <td>488</td>\n      <td>6</td>\n      <td>0</td>\n      <td>...</td>\n      <td>0</td>\n      <td>0</td>\n      <td>0</td>\n      <td>0</td>\n      <td>0</td>\n      <td>0</td>\n      <td>0</td>\n      <td>0</td>\n      <td>0</td>\n      <td>0</td>\n    </tr>\n    <tr>\n      <th>2</th>\n      <td>3</td>\n      <td>3</td>\n      <td>55.0</td>\n      <td>72.8</td>\n      <td>9</td>\n      <td>1</td>\n      <td>2</td>\n      <td>456</td>\n      <td>-2</td>\n      <td>0</td>\n      <td>...</td>\n      <td>0</td>\n      <td>0</td>\n      <td>0</td>\n      <td>0</td>\n      <td>0</td>\n      <td>0</td>\n      <td>0</td>\n      <td>0</td>\n      <td>0</td>\n      <td>0</td>\n    </tr>\n    <tr>\n      <th>1</th>\n      <td>2</td>\n      <td>2</td>\n      <td>55.0</td>\n      <td>80.4</td>\n      <td>10</td>\n      <td>1</td>\n      <td>2</td>\n      <td>448</td>\n      <td>-2</td>\n      <td>0</td>\n      <td>...</td>\n      <td>0</td>\n      <td>0</td>\n      <td>0</td>\n      <td>0</td>\n      <td>0</td>\n      <td>0</td>\n      <td>0</td>\n      <td>0</td>\n      <td>0</td>\n      <td>0</td>\n    </tr>\n    <tr>\n      <th>4</th>\n      <td>4</td>\n      <td>5</td>\n      <td>55.0</td>\n      <td>198.1</td>\n      <td>11</td>\n      <td>1</td>\n      <td>2</td>\n      <td>482</td>\n      <td>-2</td>\n      <td>0</td>\n      <td>...</td>\n      <td>0</td>\n      <td>0</td>\n      <td>0</td>\n      <td>0</td>\n      <td>0</td>\n      <td>0</td>\n      <td>0</td>\n      <td>0</td>\n      <td>0</td>\n      <td>0</td>\n    </tr>\n    <tr>\n      <th>8</th>\n      <td>6</td>\n      <td>9</td>\n      <td>55.0</td>\n      <td>299.5</td>\n      <td>12</td>\n      <td>1</td>\n      <td>2</td>\n      <td>444</td>\n      <td>4</td>\n      <td>0</td>\n      <td>...</td>\n      <td>0</td>\n      <td>0</td>\n      <td>0</td>\n      <td>0</td>\n      <td>0</td>\n      <td>0</td>\n      <td>0</td>\n      <td>0</td>\n      <td>0</td>\n      <td>0</td>\n    </tr>\n    <tr>\n      <th>6</th>\n      <td>5</td>\n      <td>7</td>\n      <td>54.0</td>\n      <td>489.0</td>\n      <td>13</td>\n      <td>1</td>\n      <td>2</td>\n      <td>482</td>\n      <td>-4</td>\n      <td>0</td>\n      <td>...</td>\n      <td>0</td>\n      <td>0</td>\n      <td>0</td>\n      <td>0</td>\n      <td>0</td>\n      <td>0</td>\n      <td>0</td>\n      <td>0</td>\n      <td>0</td>\n      <td>0</td>\n    </tr>\n  </tbody>\n</table>\n<p>13 rows × 208 columns</p>\n</div>"
     },
     "metadata": {},
     "execution_count": 406
    }
   ],
   "source": [
    "X"
   ]
  },
  {
   "cell_type": "code",
   "execution_count": 408,
   "metadata": {},
   "outputs": [
    {
     "output_type": "error",
     "ename": "ValueError",
     "evalue": "X has 208 features per sample; expecting 196",
     "traceback": [
      "\u001b[1;31m---------------------------------------------------------------------------\u001b[0m",
      "\u001b[1;31mValueError\u001b[0m                                Traceback (most recent call last)",
      "\u001b[1;32m<ipython-input-408-35c5978147bd>\u001b[0m in \u001b[0;36m<module>\u001b[1;34m\u001b[0m\n\u001b[0;32m      1\u001b[0m \u001b[1;31m# X = pd.get_dummies(test)\u001b[0m\u001b[1;33m\u001b[0m\u001b[1;33m\u001b[0m\u001b[1;33m\u001b[0m\u001b[0m\n\u001b[1;32m----> 2\u001b[1;33m \u001b[0mmodel\u001b[0m\u001b[1;33m.\u001b[0m\u001b[0mpredict\u001b[0m\u001b[1;33m(\u001b[0m\u001b[0mX\u001b[0m\u001b[1;33m)\u001b[0m\u001b[1;33m\u001b[0m\u001b[1;33m\u001b[0m\u001b[0m\n\u001b[0m\u001b[0;32m      3\u001b[0m \u001b[1;31m# X\u001b[0m\u001b[1;33m\u001b[0m\u001b[1;33m\u001b[0m\u001b[1;33m\u001b[0m\u001b[0m\n",
      "\u001b[1;32m~\\anaconda3\\lib\\site-packages\\sklearn\\linear_model\\_base.py\u001b[0m in \u001b[0;36mpredict\u001b[1;34m(self, X)\u001b[0m\n\u001b[0;32m    305\u001b[0m             \u001b[0mPredicted\u001b[0m \u001b[1;32mclass\u001b[0m \u001b[0mlabel\u001b[0m \u001b[0mper\u001b[0m \u001b[0msample\u001b[0m\u001b[1;33m.\u001b[0m\u001b[1;33m\u001b[0m\u001b[1;33m\u001b[0m\u001b[0m\n\u001b[0;32m    306\u001b[0m         \"\"\"\n\u001b[1;32m--> 307\u001b[1;33m         \u001b[0mscores\u001b[0m \u001b[1;33m=\u001b[0m \u001b[0mself\u001b[0m\u001b[1;33m.\u001b[0m\u001b[0mdecision_function\u001b[0m\u001b[1;33m(\u001b[0m\u001b[0mX\u001b[0m\u001b[1;33m)\u001b[0m\u001b[1;33m\u001b[0m\u001b[1;33m\u001b[0m\u001b[0m\n\u001b[0m\u001b[0;32m    308\u001b[0m         \u001b[1;32mif\u001b[0m \u001b[0mlen\u001b[0m\u001b[1;33m(\u001b[0m\u001b[0mscores\u001b[0m\u001b[1;33m.\u001b[0m\u001b[0mshape\u001b[0m\u001b[1;33m)\u001b[0m \u001b[1;33m==\u001b[0m \u001b[1;36m1\u001b[0m\u001b[1;33m:\u001b[0m\u001b[1;33m\u001b[0m\u001b[1;33m\u001b[0m\u001b[0m\n\u001b[0;32m    309\u001b[0m             \u001b[0mindices\u001b[0m \u001b[1;33m=\u001b[0m \u001b[1;33m(\u001b[0m\u001b[0mscores\u001b[0m \u001b[1;33m>\u001b[0m \u001b[1;36m0\u001b[0m\u001b[1;33m)\u001b[0m\u001b[1;33m.\u001b[0m\u001b[0mastype\u001b[0m\u001b[1;33m(\u001b[0m\u001b[0mnp\u001b[0m\u001b[1;33m.\u001b[0m\u001b[0mint\u001b[0m\u001b[1;33m)\u001b[0m\u001b[1;33m\u001b[0m\u001b[1;33m\u001b[0m\u001b[0m\n",
      "\u001b[1;32m~\\anaconda3\\lib\\site-packages\\sklearn\\linear_model\\_base.py\u001b[0m in \u001b[0;36mdecision_function\u001b[1;34m(self, X)\u001b[0m\n\u001b[0;32m    285\u001b[0m         \u001b[1;32mif\u001b[0m \u001b[0mX\u001b[0m\u001b[1;33m.\u001b[0m\u001b[0mshape\u001b[0m\u001b[1;33m[\u001b[0m\u001b[1;36m1\u001b[0m\u001b[1;33m]\u001b[0m \u001b[1;33m!=\u001b[0m \u001b[0mn_features\u001b[0m\u001b[1;33m:\u001b[0m\u001b[1;33m\u001b[0m\u001b[1;33m\u001b[0m\u001b[0m\n\u001b[0;32m    286\u001b[0m             raise ValueError(\"X has %d features per sample; expecting %d\"\n\u001b[1;32m--> 287\u001b[1;33m                              % (X.shape[1], n_features))\n\u001b[0m\u001b[0;32m    288\u001b[0m \u001b[1;33m\u001b[0m\u001b[0m\n\u001b[0;32m    289\u001b[0m         scores = safe_sparse_dot(X, self.coef_.T,\n",
      "\u001b[1;31mValueError\u001b[0m: X has 208 features per sample; expecting 196"
     ]
    }
   ],
   "source": [
    "# X = pd.get_dummies(test)\n",
    "model.predict(X)\n",
    "# X"
   ]
  },
  {
   "cell_type": "code",
   "execution_count": 369,
   "metadata": {},
   "outputs": [
    {
     "output_type": "error",
     "ename": "ValueError",
     "evalue": "X has 22 features per sample; expecting 196",
     "traceback": [
      "\u001b[1;31m---------------------------------------------------------------------------\u001b[0m",
      "\u001b[1;31mValueError\u001b[0m                                Traceback (most recent call last)",
      "\u001b[1;32m<ipython-input-369-43a58eb494e8>\u001b[0m in \u001b[0;36m<module>\u001b[1;34m\u001b[0m\n\u001b[1;32m----> 1\u001b[1;33m \u001b[0mmodel\u001b[0m\u001b[1;33m.\u001b[0m\u001b[0mpredict\u001b[0m\u001b[1;33m(\u001b[0m\u001b[0mX\u001b[0m\u001b[1;33m)\u001b[0m\u001b[1;33m\u001b[0m\u001b[1;33m\u001b[0m\u001b[0m\n\u001b[0m",
      "\u001b[1;32m~\\anaconda3\\lib\\site-packages\\sklearn\\linear_model\\_base.py\u001b[0m in \u001b[0;36mpredict\u001b[1;34m(self, X)\u001b[0m\n\u001b[0;32m    305\u001b[0m             \u001b[0mPredicted\u001b[0m \u001b[1;32mclass\u001b[0m \u001b[0mlabel\u001b[0m \u001b[0mper\u001b[0m \u001b[0msample\u001b[0m\u001b[1;33m.\u001b[0m\u001b[1;33m\u001b[0m\u001b[1;33m\u001b[0m\u001b[0m\n\u001b[0;32m    306\u001b[0m         \"\"\"\n\u001b[1;32m--> 307\u001b[1;33m         \u001b[0mscores\u001b[0m \u001b[1;33m=\u001b[0m \u001b[0mself\u001b[0m\u001b[1;33m.\u001b[0m\u001b[0mdecision_function\u001b[0m\u001b[1;33m(\u001b[0m\u001b[0mX\u001b[0m\u001b[1;33m)\u001b[0m\u001b[1;33m\u001b[0m\u001b[1;33m\u001b[0m\u001b[0m\n\u001b[0m\u001b[0;32m    308\u001b[0m         \u001b[1;32mif\u001b[0m \u001b[0mlen\u001b[0m\u001b[1;33m(\u001b[0m\u001b[0mscores\u001b[0m\u001b[1;33m.\u001b[0m\u001b[0mshape\u001b[0m\u001b[1;33m)\u001b[0m \u001b[1;33m==\u001b[0m \u001b[1;36m1\u001b[0m\u001b[1;33m:\u001b[0m\u001b[1;33m\u001b[0m\u001b[1;33m\u001b[0m\u001b[0m\n\u001b[0;32m    309\u001b[0m             \u001b[0mindices\u001b[0m \u001b[1;33m=\u001b[0m \u001b[1;33m(\u001b[0m\u001b[0mscores\u001b[0m \u001b[1;33m>\u001b[0m \u001b[1;36m0\u001b[0m\u001b[1;33m)\u001b[0m\u001b[1;33m.\u001b[0m\u001b[0mastype\u001b[0m\u001b[1;33m(\u001b[0m\u001b[0mnp\u001b[0m\u001b[1;33m.\u001b[0m\u001b[0mint\u001b[0m\u001b[1;33m)\u001b[0m\u001b[1;33m\u001b[0m\u001b[1;33m\u001b[0m\u001b[0m\n",
      "\u001b[1;32m~\\anaconda3\\lib\\site-packages\\sklearn\\linear_model\\_base.py\u001b[0m in \u001b[0;36mdecision_function\u001b[1;34m(self, X)\u001b[0m\n\u001b[0;32m    285\u001b[0m         \u001b[1;32mif\u001b[0m \u001b[0mX\u001b[0m\u001b[1;33m.\u001b[0m\u001b[0mshape\u001b[0m\u001b[1;33m[\u001b[0m\u001b[1;36m1\u001b[0m\u001b[1;33m]\u001b[0m \u001b[1;33m!=\u001b[0m \u001b[0mn_features\u001b[0m\u001b[1;33m:\u001b[0m\u001b[1;33m\u001b[0m\u001b[1;33m\u001b[0m\u001b[0m\n\u001b[0;32m    286\u001b[0m             raise ValueError(\"X has %d features per sample; expecting %d\"\n\u001b[1;32m--> 287\u001b[1;33m                              % (X.shape[1], n_features))\n\u001b[0m\u001b[0;32m    288\u001b[0m \u001b[1;33m\u001b[0m\u001b[0m\n\u001b[0;32m    289\u001b[0m         scores = safe_sparse_dot(X, self.coef_.T,\n",
      "\u001b[1;31mValueError\u001b[0m: X has 22 features per sample; expecting 196"
     ]
    }
   ],
   "source": [
    "model.predict(X)"
   ]
  },
  {
   "cell_type": "code",
   "execution_count": null,
   "metadata": {},
   "outputs": [],
   "source": []
  }
 ]
}