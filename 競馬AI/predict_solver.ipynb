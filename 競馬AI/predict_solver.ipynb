{
 "metadata": {
  "language_info": {
   "codemirror_mode": {
    "name": "ipython",
    "version": 3
   },
   "file_extension": ".py",
   "mimetype": "text/x-python",
   "name": "python",
   "nbconvert_exporter": "python",
   "pygments_lexer": "ipython3",
   "version": "3.7.9-final"
  },
  "orig_nbformat": 2,
  "kernelspec": {
   "name": "python37764bitbaseconda280a54c4007541afb95b70716bb8022d",
   "display_name": "Python 3.7.7 64-bit ('base': conda)"
  }
 },
 "nbformat": 4,
 "nbformat_minor": 2,
 "cells": [
  {
   "cell_type": "code",
   "execution_count": 124,
   "metadata": {},
   "outputs": [],
   "source": [
    "import pandas as pd\n",
    "import numpy as np\n",
    "\n",
    "odds_df = pd.read_pickle(\"odds.pickle\")\n",
    "shutuba_df = pd.read_pickle(\"shutuba.pickle\")"
   ]
  },
  {
   "cell_type": "code",
   "execution_count": 125,
   "metadata": {},
   "outputs": [
    {
     "output_type": "execute_result",
     "data": {
      "text/plain": [
       "    人気  枠  馬番   印         馬名  単勝オッズ        複勝オッズ\n",
       "0    1  8  13 NaN  ノーダブルディップ    3.2    1.2 - 1.8\n",
       "1    2  5   6 NaN   トーセンダニエル    3.4    1.2 - 1.7\n",
       "2    3  8  12 NaN    ショベルヘッド    3.5    1.2 - 1.6\n",
       "3    4  6   8 NaN   インヴァリアンス    7.3    1.7 - 2.6\n",
       "4    5  7  10 NaN    ロクネンニクミ   18.7    3.3 - 5.5\n",
       "5    6  1   1 NaN  シゲルセンチュリー   27.6    3.6 - 6.2\n",
       "6    7  4   4 NaN  カイザーレヴァンテ   43.8    5.1 - 8.9\n",
       "7    8  7  11 NaN   セイウンスパーダ   57.9    5.0 - 8.6\n",
       "8    9  3   3 NaN    サノノバーディ   72.8   7.9 - 13.9\n",
       "9   10  2   2 NaN   ナンヨーノワール   80.4   8.2 - 14.3\n",
       "10  11  4   5 NaN      アルビレオ  198.1  23.6 - 42.1\n",
       "11  12  6   9 NaN    マイネルホップ  299.5  22.3 - 39.9\n",
       "12  13  5   7 NaN       センナリ  489.0  37.7 - 67.4"
      ],
      "text/html": "<div>\n<style scoped>\n    .dataframe tbody tr th:only-of-type {\n        vertical-align: middle;\n    }\n\n    .dataframe tbody tr th {\n        vertical-align: top;\n    }\n\n    .dataframe thead th {\n        text-align: right;\n    }\n</style>\n<table border=\"1\" class=\"dataframe\">\n  <thead>\n    <tr style=\"text-align: right;\">\n      <th></th>\n      <th>人気</th>\n      <th>枠</th>\n      <th>馬番</th>\n      <th>印</th>\n      <th>馬名</th>\n      <th>単勝オッズ</th>\n      <th>複勝オッズ</th>\n    </tr>\n  </thead>\n  <tbody>\n    <tr>\n      <th>0</th>\n      <td>1</td>\n      <td>8</td>\n      <td>13</td>\n      <td>NaN</td>\n      <td>ノーダブルディップ</td>\n      <td>3.2</td>\n      <td>1.2 - 1.8</td>\n    </tr>\n    <tr>\n      <th>1</th>\n      <td>2</td>\n      <td>5</td>\n      <td>6</td>\n      <td>NaN</td>\n      <td>トーセンダニエル</td>\n      <td>3.4</td>\n      <td>1.2 - 1.7</td>\n    </tr>\n    <tr>\n      <th>2</th>\n      <td>3</td>\n      <td>8</td>\n      <td>12</td>\n      <td>NaN</td>\n      <td>ショベルヘッド</td>\n      <td>3.5</td>\n      <td>1.2 - 1.6</td>\n    </tr>\n    <tr>\n      <th>3</th>\n      <td>4</td>\n      <td>6</td>\n      <td>8</td>\n      <td>NaN</td>\n      <td>インヴァリアンス</td>\n      <td>7.3</td>\n      <td>1.7 - 2.6</td>\n    </tr>\n    <tr>\n      <th>4</th>\n      <td>5</td>\n      <td>7</td>\n      <td>10</td>\n      <td>NaN</td>\n      <td>ロクネンニクミ</td>\n      <td>18.7</td>\n      <td>3.3 - 5.5</td>\n    </tr>\n    <tr>\n      <th>5</th>\n      <td>6</td>\n      <td>1</td>\n      <td>1</td>\n      <td>NaN</td>\n      <td>シゲルセンチュリー</td>\n      <td>27.6</td>\n      <td>3.6 - 6.2</td>\n    </tr>\n    <tr>\n      <th>6</th>\n      <td>7</td>\n      <td>4</td>\n      <td>4</td>\n      <td>NaN</td>\n      <td>カイザーレヴァンテ</td>\n      <td>43.8</td>\n      <td>5.1 - 8.9</td>\n    </tr>\n    <tr>\n      <th>7</th>\n      <td>8</td>\n      <td>7</td>\n      <td>11</td>\n      <td>NaN</td>\n      <td>セイウンスパーダ</td>\n      <td>57.9</td>\n      <td>5.0 - 8.6</td>\n    </tr>\n    <tr>\n      <th>8</th>\n      <td>9</td>\n      <td>3</td>\n      <td>3</td>\n      <td>NaN</td>\n      <td>サノノバーディ</td>\n      <td>72.8</td>\n      <td>7.9 - 13.9</td>\n    </tr>\n    <tr>\n      <th>9</th>\n      <td>10</td>\n      <td>2</td>\n      <td>2</td>\n      <td>NaN</td>\n      <td>ナンヨーノワール</td>\n      <td>80.4</td>\n      <td>8.2 - 14.3</td>\n    </tr>\n    <tr>\n      <th>10</th>\n      <td>11</td>\n      <td>4</td>\n      <td>5</td>\n      <td>NaN</td>\n      <td>アルビレオ</td>\n      <td>198.1</td>\n      <td>23.6 - 42.1</td>\n    </tr>\n    <tr>\n      <th>11</th>\n      <td>12</td>\n      <td>6</td>\n      <td>9</td>\n      <td>NaN</td>\n      <td>マイネルホップ</td>\n      <td>299.5</td>\n      <td>22.3 - 39.9</td>\n    </tr>\n    <tr>\n      <th>12</th>\n      <td>13</td>\n      <td>5</td>\n      <td>7</td>\n      <td>NaN</td>\n      <td>センナリ</td>\n      <td>489.0</td>\n      <td>37.7 - 67.4</td>\n    </tr>\n  </tbody>\n</table>\n</div>"
     },
     "metadata": {},
     "execution_count": 125
    }
   ],
   "source": [
    "odds_df"
   ]
  },
  {
   "cell_type": "code",
   "execution_count": 126,
   "metadata": {},
   "outputs": [
    {
     "output_type": "execute_result",
     "data": {
      "text/plain": [
       "    人気  枠  馬番   印         馬名  単勝オッズ        複勝オッズ\n",
       "5    6  1   1 NaN  シゲルセンチュリー   27.6    3.6 - 6.2\n",
       "9   10  2   2 NaN   ナンヨーノワール   80.4   8.2 - 14.3\n",
       "8    9  3   3 NaN    サノノバーディ   72.8   7.9 - 13.9\n",
       "6    7  4   4 NaN  カイザーレヴァンテ   43.8    5.1 - 8.9\n",
       "10  11  4   5 NaN      アルビレオ  198.1  23.6 - 42.1\n",
       "1    2  5   6 NaN   トーセンダニエル    3.4    1.2 - 1.7\n",
       "12  13  5   7 NaN       センナリ  489.0  37.7 - 67.4\n",
       "3    4  6   8 NaN   インヴァリアンス    7.3    1.7 - 2.6\n",
       "11  12  6   9 NaN    マイネルホップ  299.5  22.3 - 39.9\n",
       "4    5  7  10 NaN    ロクネンニクミ   18.7    3.3 - 5.5\n",
       "7    8  7  11 NaN   セイウンスパーダ   57.9    5.0 - 8.6\n",
       "2    3  8  12 NaN    ショベルヘッド    3.5    1.2 - 1.6\n",
       "0    1  8  13 NaN  ノーダブルディップ    3.2    1.2 - 1.8"
      ],
      "text/html": "<div>\n<style scoped>\n    .dataframe tbody tr th:only-of-type {\n        vertical-align: middle;\n    }\n\n    .dataframe tbody tr th {\n        vertical-align: top;\n    }\n\n    .dataframe thead th {\n        text-align: right;\n    }\n</style>\n<table border=\"1\" class=\"dataframe\">\n  <thead>\n    <tr style=\"text-align: right;\">\n      <th></th>\n      <th>人気</th>\n      <th>枠</th>\n      <th>馬番</th>\n      <th>印</th>\n      <th>馬名</th>\n      <th>単勝オッズ</th>\n      <th>複勝オッズ</th>\n    </tr>\n  </thead>\n  <tbody>\n    <tr>\n      <th>5</th>\n      <td>6</td>\n      <td>1</td>\n      <td>1</td>\n      <td>NaN</td>\n      <td>シゲルセンチュリー</td>\n      <td>27.6</td>\n      <td>3.6 - 6.2</td>\n    </tr>\n    <tr>\n      <th>9</th>\n      <td>10</td>\n      <td>2</td>\n      <td>2</td>\n      <td>NaN</td>\n      <td>ナンヨーノワール</td>\n      <td>80.4</td>\n      <td>8.2 - 14.3</td>\n    </tr>\n    <tr>\n      <th>8</th>\n      <td>9</td>\n      <td>3</td>\n      <td>3</td>\n      <td>NaN</td>\n      <td>サノノバーディ</td>\n      <td>72.8</td>\n      <td>7.9 - 13.9</td>\n    </tr>\n    <tr>\n      <th>6</th>\n      <td>7</td>\n      <td>4</td>\n      <td>4</td>\n      <td>NaN</td>\n      <td>カイザーレヴァンテ</td>\n      <td>43.8</td>\n      <td>5.1 - 8.9</td>\n    </tr>\n    <tr>\n      <th>10</th>\n      <td>11</td>\n      <td>4</td>\n      <td>5</td>\n      <td>NaN</td>\n      <td>アルビレオ</td>\n      <td>198.1</td>\n      <td>23.6 - 42.1</td>\n    </tr>\n    <tr>\n      <th>1</th>\n      <td>2</td>\n      <td>5</td>\n      <td>6</td>\n      <td>NaN</td>\n      <td>トーセンダニエル</td>\n      <td>3.4</td>\n      <td>1.2 - 1.7</td>\n    </tr>\n    <tr>\n      <th>12</th>\n      <td>13</td>\n      <td>5</td>\n      <td>7</td>\n      <td>NaN</td>\n      <td>センナリ</td>\n      <td>489.0</td>\n      <td>37.7 - 67.4</td>\n    </tr>\n    <tr>\n      <th>3</th>\n      <td>4</td>\n      <td>6</td>\n      <td>8</td>\n      <td>NaN</td>\n      <td>インヴァリアンス</td>\n      <td>7.3</td>\n      <td>1.7 - 2.6</td>\n    </tr>\n    <tr>\n      <th>11</th>\n      <td>12</td>\n      <td>6</td>\n      <td>9</td>\n      <td>NaN</td>\n      <td>マイネルホップ</td>\n      <td>299.5</td>\n      <td>22.3 - 39.9</td>\n    </tr>\n    <tr>\n      <th>4</th>\n      <td>5</td>\n      <td>7</td>\n      <td>10</td>\n      <td>NaN</td>\n      <td>ロクネンニクミ</td>\n      <td>18.7</td>\n      <td>3.3 - 5.5</td>\n    </tr>\n    <tr>\n      <th>7</th>\n      <td>8</td>\n      <td>7</td>\n      <td>11</td>\n      <td>NaN</td>\n      <td>セイウンスパーダ</td>\n      <td>57.9</td>\n      <td>5.0 - 8.6</td>\n    </tr>\n    <tr>\n      <th>2</th>\n      <td>3</td>\n      <td>8</td>\n      <td>12</td>\n      <td>NaN</td>\n      <td>ショベルヘッド</td>\n      <td>3.5</td>\n      <td>1.2 - 1.6</td>\n    </tr>\n    <tr>\n      <th>0</th>\n      <td>1</td>\n      <td>8</td>\n      <td>13</td>\n      <td>NaN</td>\n      <td>ノーダブルディップ</td>\n      <td>3.2</td>\n      <td>1.2 - 1.8</td>\n    </tr>\n  </tbody>\n</table>\n</div>"
     },
     "metadata": {},
     "execution_count": 126
    }
   ],
   "source": [
    "odds_df.sort_values(by=\"馬番\",ascending=True, inplace=True)\n",
    "odds_df"
   ]
  },
  {
   "cell_type": "code",
   "execution_count": 127,
   "metadata": {},
   "outputs": [
    {
     "output_type": "execute_result",
     "data": {
      "text/plain": [
       "    人気  枠  馬番   印         馬名  単勝オッズ        複勝オッズ\n",
       "5    6  1   1 NaN  シゲルセンチュリー   27.6    3.6 - 6.2\n",
       "9   10  2   2 NaN   ナンヨーノワール   80.4   8.2 - 14.3\n",
       "8    9  3   3 NaN    サノノバーディ   72.8   7.9 - 13.9\n",
       "6    7  4   4 NaN  カイザーレヴァンテ   43.8    5.1 - 8.9\n",
       "10  11  4   5 NaN      アルビレオ  198.1  23.6 - 42.1\n",
       "1    2  5   6 NaN   トーセンダニエル    3.4    1.2 - 1.7\n",
       "12  13  5   7 NaN       センナリ  489.0  37.7 - 67.4\n",
       "3    4  6   8 NaN   インヴァリアンス    7.3    1.7 - 2.6\n",
       "11  12  6   9 NaN    マイネルホップ  299.5  22.3 - 39.9\n",
       "4    5  7  10 NaN    ロクネンニクミ   18.7    3.3 - 5.5\n",
       "7    8  7  11 NaN   セイウンスパーダ   57.9    5.0 - 8.6\n",
       "2    3  8  12 NaN    ショベルヘッド    3.5    1.2 - 1.6\n",
       "0    1  8  13 NaN  ノーダブルディップ    3.2    1.2 - 1.8"
      ],
      "text/html": "<div>\n<style scoped>\n    .dataframe tbody tr th:only-of-type {\n        vertical-align: middle;\n    }\n\n    .dataframe tbody tr th {\n        vertical-align: top;\n    }\n\n    .dataframe thead th {\n        text-align: right;\n    }\n</style>\n<table border=\"1\" class=\"dataframe\">\n  <thead>\n    <tr style=\"text-align: right;\">\n      <th></th>\n      <th>人気</th>\n      <th>枠</th>\n      <th>馬番</th>\n      <th>印</th>\n      <th>馬名</th>\n      <th>単勝オッズ</th>\n      <th>複勝オッズ</th>\n    </tr>\n  </thead>\n  <tbody>\n    <tr>\n      <th>5</th>\n      <td>6</td>\n      <td>1</td>\n      <td>1</td>\n      <td>NaN</td>\n      <td>シゲルセンチュリー</td>\n      <td>27.6</td>\n      <td>3.6 - 6.2</td>\n    </tr>\n    <tr>\n      <th>9</th>\n      <td>10</td>\n      <td>2</td>\n      <td>2</td>\n      <td>NaN</td>\n      <td>ナンヨーノワール</td>\n      <td>80.4</td>\n      <td>8.2 - 14.3</td>\n    </tr>\n    <tr>\n      <th>8</th>\n      <td>9</td>\n      <td>3</td>\n      <td>3</td>\n      <td>NaN</td>\n      <td>サノノバーディ</td>\n      <td>72.8</td>\n      <td>7.9 - 13.9</td>\n    </tr>\n    <tr>\n      <th>6</th>\n      <td>7</td>\n      <td>4</td>\n      <td>4</td>\n      <td>NaN</td>\n      <td>カイザーレヴァンテ</td>\n      <td>43.8</td>\n      <td>5.1 - 8.9</td>\n    </tr>\n    <tr>\n      <th>10</th>\n      <td>11</td>\n      <td>4</td>\n      <td>5</td>\n      <td>NaN</td>\n      <td>アルビレオ</td>\n      <td>198.1</td>\n      <td>23.6 - 42.1</td>\n    </tr>\n    <tr>\n      <th>1</th>\n      <td>2</td>\n      <td>5</td>\n      <td>6</td>\n      <td>NaN</td>\n      <td>トーセンダニエル</td>\n      <td>3.4</td>\n      <td>1.2 - 1.7</td>\n    </tr>\n    <tr>\n      <th>12</th>\n      <td>13</td>\n      <td>5</td>\n      <td>7</td>\n      <td>NaN</td>\n      <td>センナリ</td>\n      <td>489.0</td>\n      <td>37.7 - 67.4</td>\n    </tr>\n    <tr>\n      <th>3</th>\n      <td>4</td>\n      <td>6</td>\n      <td>8</td>\n      <td>NaN</td>\n      <td>インヴァリアンス</td>\n      <td>7.3</td>\n      <td>1.7 - 2.6</td>\n    </tr>\n    <tr>\n      <th>11</th>\n      <td>12</td>\n      <td>6</td>\n      <td>9</td>\n      <td>NaN</td>\n      <td>マイネルホップ</td>\n      <td>299.5</td>\n      <td>22.3 - 39.9</td>\n    </tr>\n    <tr>\n      <th>4</th>\n      <td>5</td>\n      <td>7</td>\n      <td>10</td>\n      <td>NaN</td>\n      <td>ロクネンニクミ</td>\n      <td>18.7</td>\n      <td>3.3 - 5.5</td>\n    </tr>\n    <tr>\n      <th>7</th>\n      <td>8</td>\n      <td>7</td>\n      <td>11</td>\n      <td>NaN</td>\n      <td>セイウンスパーダ</td>\n      <td>57.9</td>\n      <td>5.0 - 8.6</td>\n    </tr>\n    <tr>\n      <th>2</th>\n      <td>3</td>\n      <td>8</td>\n      <td>12</td>\n      <td>NaN</td>\n      <td>ショベルヘッド</td>\n      <td>3.5</td>\n      <td>1.2 - 1.6</td>\n    </tr>\n    <tr>\n      <th>0</th>\n      <td>1</td>\n      <td>8</td>\n      <td>13</td>\n      <td>NaN</td>\n      <td>ノーダブルディップ</td>\n      <td>3.2</td>\n      <td>1.2 - 1.8</td>\n    </tr>\n  </tbody>\n</table>\n</div>"
     },
     "metadata": {},
     "execution_count": 127
    }
   ],
   "source": [
    "odds_df"
   ]
  },
  {
   "source": [
    "## オッズの加工"
   ],
   "cell_type": "markdown",
   "metadata": {}
  },
  {
   "cell_type": "code",
   "execution_count": null,
   "metadata": {},
   "outputs": [],
   "source": []
  },
  {
   "cell_type": "code",
   "execution_count": 141,
   "metadata": {},
   "outputs": [],
   "source": [
    "odds_1 = np.empty(len(odds_df.index))\n",
    "odds_1to3 = np.empty(len(odds_df.index))\n",
    "for i in range(len(odds_df.index)):\n",
    "    odds_1[i] = odds_df[\"単勝オッズ\"].iloc[i]\n",
    "    odds_1to3[i] = odds_df[\"複勝オッズ\"].str.split(\" \",expand=True).iloc[i][0]"
   ]
  },
  {
   "cell_type": "code",
   "execution_count": 142,
   "metadata": {},
   "outputs": [
    {
     "output_type": "execute_result",
     "data": {
      "text/plain": [
       "    枠  馬番   印         馬名  性齢    斤量     騎手     厩舎  馬体重(増減)    オッズ  人気  登録  メモ\n",
       "0   1   1  --  シゲルセンチュリー  牝2  54.0    柴田善   美浦石毛  462(+2)   27.6   6 NaN NaN\n",
       "1   2   2  --   ナンヨーノワール  牡2  55.0    木幡巧   美浦杉浦  448(-2)   80.4  10 NaN NaN\n",
       "2   3   3  --    サノノバーディ  牡2  55.0     田辺   美浦尾形  456(-2)   72.8   9 NaN NaN\n",
       "3   4   4  --  カイザーレヴァンテ  牡2  55.0  Ｍデムーロ  美浦田中剛  488(-4)   43.8   7 NaN NaN\n",
       "4   4   5  --      アルビレオ  牡2  55.0     武藤    美浦林  482(-2)  198.1  11 NaN NaN\n",
       "5   5   6  --   トーセンダニエル  牡2  55.0    武士沢  美浦古賀史  548(+8)    3.4   2 NaN NaN\n",
       "6   5   7  --       センナリ  牡2  54.0    木幡育  美浦大江原  482(-4)  489.0  13 NaN NaN\n",
       "7   6   8  --   インヴァリアンス  牡2  55.0    横山典   美浦尾関  482(+4)    7.3   4 NaN NaN\n",
       "8   6   9  --    マイネルホップ  牡2  55.0    柴田大  美浦伊藤圭  444(+4)  299.5  12 NaN NaN\n",
       "9   7  10  --    ロクネンニクミ  牡2  55.0    内田博   美浦小笠   516(0)   18.7   5 NaN NaN\n",
       "10  7  11  --   セイウンスパーダ  牡2  55.0     大野   美浦栗田  488(+6)   57.9   8 NaN NaN\n",
       "11  8  12  --    ショベルヘッド  牡2  55.0   ルメール  美浦藤沢和  468(+8)    3.5   3 NaN NaN\n",
       "12  8  13  --  ノーダブルディップ  牡2  55.0    北村宏  美浦古賀慎  546(+4)    3.2   1 NaN NaN"
      ],
      "text/html": "<div>\n<style scoped>\n    .dataframe tbody tr th:only-of-type {\n        vertical-align: middle;\n    }\n\n    .dataframe tbody tr th {\n        vertical-align: top;\n    }\n\n    .dataframe thead th {\n        text-align: right;\n    }\n</style>\n<table border=\"1\" class=\"dataframe\">\n  <thead>\n    <tr style=\"text-align: right;\">\n      <th></th>\n      <th>枠</th>\n      <th>馬番</th>\n      <th>印</th>\n      <th>馬名</th>\n      <th>性齢</th>\n      <th>斤量</th>\n      <th>騎手</th>\n      <th>厩舎</th>\n      <th>馬体重(増減)</th>\n      <th>オッズ</th>\n      <th>人気</th>\n      <th>登録</th>\n      <th>メモ</th>\n    </tr>\n  </thead>\n  <tbody>\n    <tr>\n      <th>0</th>\n      <td>1</td>\n      <td>1</td>\n      <td>--</td>\n      <td>シゲルセンチュリー</td>\n      <td>牝2</td>\n      <td>54.0</td>\n      <td>柴田善</td>\n      <td>美浦石毛</td>\n      <td>462(+2)</td>\n      <td>27.6</td>\n      <td>6</td>\n      <td>NaN</td>\n      <td>NaN</td>\n    </tr>\n    <tr>\n      <th>1</th>\n      <td>2</td>\n      <td>2</td>\n      <td>--</td>\n      <td>ナンヨーノワール</td>\n      <td>牡2</td>\n      <td>55.0</td>\n      <td>木幡巧</td>\n      <td>美浦杉浦</td>\n      <td>448(-2)</td>\n      <td>80.4</td>\n      <td>10</td>\n      <td>NaN</td>\n      <td>NaN</td>\n    </tr>\n    <tr>\n      <th>2</th>\n      <td>3</td>\n      <td>3</td>\n      <td>--</td>\n      <td>サノノバーディ</td>\n      <td>牡2</td>\n      <td>55.0</td>\n      <td>田辺</td>\n      <td>美浦尾形</td>\n      <td>456(-2)</td>\n      <td>72.8</td>\n      <td>9</td>\n      <td>NaN</td>\n      <td>NaN</td>\n    </tr>\n    <tr>\n      <th>3</th>\n      <td>4</td>\n      <td>4</td>\n      <td>--</td>\n      <td>カイザーレヴァンテ</td>\n      <td>牡2</td>\n      <td>55.0</td>\n      <td>Ｍデムーロ</td>\n      <td>美浦田中剛</td>\n      <td>488(-4)</td>\n      <td>43.8</td>\n      <td>7</td>\n      <td>NaN</td>\n      <td>NaN</td>\n    </tr>\n    <tr>\n      <th>4</th>\n      <td>4</td>\n      <td>5</td>\n      <td>--</td>\n      <td>アルビレオ</td>\n      <td>牡2</td>\n      <td>55.0</td>\n      <td>武藤</td>\n      <td>美浦林</td>\n      <td>482(-2)</td>\n      <td>198.1</td>\n      <td>11</td>\n      <td>NaN</td>\n      <td>NaN</td>\n    </tr>\n    <tr>\n      <th>5</th>\n      <td>5</td>\n      <td>6</td>\n      <td>--</td>\n      <td>トーセンダニエル</td>\n      <td>牡2</td>\n      <td>55.0</td>\n      <td>武士沢</td>\n      <td>美浦古賀史</td>\n      <td>548(+8)</td>\n      <td>3.4</td>\n      <td>2</td>\n      <td>NaN</td>\n      <td>NaN</td>\n    </tr>\n    <tr>\n      <th>6</th>\n      <td>5</td>\n      <td>7</td>\n      <td>--</td>\n      <td>センナリ</td>\n      <td>牡2</td>\n      <td>54.0</td>\n      <td>木幡育</td>\n      <td>美浦大江原</td>\n      <td>482(-4)</td>\n      <td>489.0</td>\n      <td>13</td>\n      <td>NaN</td>\n      <td>NaN</td>\n    </tr>\n    <tr>\n      <th>7</th>\n      <td>6</td>\n      <td>8</td>\n      <td>--</td>\n      <td>インヴァリアンス</td>\n      <td>牡2</td>\n      <td>55.0</td>\n      <td>横山典</td>\n      <td>美浦尾関</td>\n      <td>482(+4)</td>\n      <td>7.3</td>\n      <td>4</td>\n      <td>NaN</td>\n      <td>NaN</td>\n    </tr>\n    <tr>\n      <th>8</th>\n      <td>6</td>\n      <td>9</td>\n      <td>--</td>\n      <td>マイネルホップ</td>\n      <td>牡2</td>\n      <td>55.0</td>\n      <td>柴田大</td>\n      <td>美浦伊藤圭</td>\n      <td>444(+4)</td>\n      <td>299.5</td>\n      <td>12</td>\n      <td>NaN</td>\n      <td>NaN</td>\n    </tr>\n    <tr>\n      <th>9</th>\n      <td>7</td>\n      <td>10</td>\n      <td>--</td>\n      <td>ロクネンニクミ</td>\n      <td>牡2</td>\n      <td>55.0</td>\n      <td>内田博</td>\n      <td>美浦小笠</td>\n      <td>516(0)</td>\n      <td>18.7</td>\n      <td>5</td>\n      <td>NaN</td>\n      <td>NaN</td>\n    </tr>\n    <tr>\n      <th>10</th>\n      <td>7</td>\n      <td>11</td>\n      <td>--</td>\n      <td>セイウンスパーダ</td>\n      <td>牡2</td>\n      <td>55.0</td>\n      <td>大野</td>\n      <td>美浦栗田</td>\n      <td>488(+6)</td>\n      <td>57.9</td>\n      <td>8</td>\n      <td>NaN</td>\n      <td>NaN</td>\n    </tr>\n    <tr>\n      <th>11</th>\n      <td>8</td>\n      <td>12</td>\n      <td>--</td>\n      <td>ショベルヘッド</td>\n      <td>牡2</td>\n      <td>55.0</td>\n      <td>ルメール</td>\n      <td>美浦藤沢和</td>\n      <td>468(+8)</td>\n      <td>3.5</td>\n      <td>3</td>\n      <td>NaN</td>\n      <td>NaN</td>\n    </tr>\n    <tr>\n      <th>12</th>\n      <td>8</td>\n      <td>13</td>\n      <td>--</td>\n      <td>ノーダブルディップ</td>\n      <td>牡2</td>\n      <td>55.0</td>\n      <td>北村宏</td>\n      <td>美浦古賀慎</td>\n      <td>546(+4)</td>\n      <td>3.2</td>\n      <td>1</td>\n      <td>NaN</td>\n      <td>NaN</td>\n    </tr>\n  </tbody>\n</table>\n</div>"
     },
     "metadata": {},
     "execution_count": 142
    }
   ],
   "source": [
    "shutuba_df"
   ]
  },
  {
   "source": [
    "## 出馬表の加工"
   ],
   "cell_type": "markdown",
   "metadata": {}
  },
  {
   "cell_type": "code",
   "execution_count": 155,
   "metadata": {},
   "outputs": [],
   "source": [
    "def processing_shutubatable(results):\n",
    "    # results = pd.read_pickle(\"results.pickle\")\n",
    "    df = results.copy()\n",
    "    # 着順\n",
    "    # df = df[~(df[\"着順\"].astype(str).str.contains(\"\\D\"))]\n",
    "    # df[\"着順\"] = df[\"着順\"].astype(int)\n",
    "    # 性別\n",
    "    df[\"性別\"] = df[\"性齢\"].map(lambda x: str(x)[0])\n",
    "    df[\"性別\"] = df[\"性別\"].map({\"牡\": 1, \"牝\": 0, \"セ\": 1})  # 雄:1,牝:0\n",
    "    # df[\"性別\"]=df[\"性別\"].astype(int)\n",
    "    # df[\"性別\"] = pd.get_dummies(df[\"性別\"])\n",
    "    # 年齢\n",
    "    df[\"年齢\"] = df[\"性齢\"].map(lambda x: str(x)[1:])\n",
    "    df[\"年齢\"] = df[\"年齢\"].astype(int)\n",
    "    # 体重\n",
    "    df = df.rename(columns={'馬体重(増減)': \"馬体重\"})\n",
    "    df[\"体重\"] = df[\"馬体重\"].str.split(\"(\", expand=True)[0].astype(int)\n",
    "    # 体重変化\n",
    "    df[\"体重変化\"] = df[\"馬体重\"].str.split(\"(\", expand=True)[1].str[:-1].astype(int)\n",
    "    # 人気と単勝をint型に\n",
    "    df[\"人気\"] = df[\"人気\"].astype(int)\n",
    "    # df[\"単勝\"] = df[\"単勝\"].astype(float)\n",
    "    df = df.rename(columns={'オッズ': \"単勝\"})\n",
    "    df = df.rename(columns={'枠': \"枠番\"})\n",
    "    #人気順にソート\n",
    "    df = df.sort_values(by=\"馬番\",ascending=True)\n",
    "    # いらない列の消去\n",
    "    df.drop([\"印\",\"性齢\",\"馬名\", \"厩舎\", \"馬体重\", \"登録\", \"メモ\",\"騎手\",\"馬番\"], axis=1, inplace=True)\n",
    "\n",
    "    return df"
   ]
  },
  {
   "cell_type": "code",
   "execution_count": 156,
   "metadata": {},
   "outputs": [
    {
     "output_type": "execute_result",
     "data": {
      "text/plain": [
       "    枠番    斤量     単勝  人気  性別  年齢   体重  体重変化\n",
       "0    1  54.0   27.6   6   0   2  462     2\n",
       "1    2  55.0   80.4  10   1   2  448    -2\n",
       "2    3  55.0   72.8   9   1   2  456    -2\n",
       "3    4  55.0   43.8   7   1   2  488    -4\n",
       "4    4  55.0  198.1  11   1   2  482    -2\n",
       "5    5  55.0    3.4   2   1   2  548     8\n",
       "6    5  54.0  489.0  13   1   2  482    -4\n",
       "7    6  55.0    7.3   4   1   2  482     4\n",
       "8    6  55.0  299.5  12   1   2  444     4\n",
       "9    7  55.0   18.7   5   1   2  516     0\n",
       "10   7  55.0   57.9   8   1   2  488     6\n",
       "11   8  55.0    3.5   3   1   2  468     8\n",
       "12   8  55.0    3.2   1   1   2  546     4"
      ],
      "text/html": "<div>\n<style scoped>\n    .dataframe tbody tr th:only-of-type {\n        vertical-align: middle;\n    }\n\n    .dataframe tbody tr th {\n        vertical-align: top;\n    }\n\n    .dataframe thead th {\n        text-align: right;\n    }\n</style>\n<table border=\"1\" class=\"dataframe\">\n  <thead>\n    <tr style=\"text-align: right;\">\n      <th></th>\n      <th>枠番</th>\n      <th>斤量</th>\n      <th>単勝</th>\n      <th>人気</th>\n      <th>性別</th>\n      <th>年齢</th>\n      <th>体重</th>\n      <th>体重変化</th>\n    </tr>\n  </thead>\n  <tbody>\n    <tr>\n      <th>0</th>\n      <td>1</td>\n      <td>54.0</td>\n      <td>27.6</td>\n      <td>6</td>\n      <td>0</td>\n      <td>2</td>\n      <td>462</td>\n      <td>2</td>\n    </tr>\n    <tr>\n      <th>1</th>\n      <td>2</td>\n      <td>55.0</td>\n      <td>80.4</td>\n      <td>10</td>\n      <td>1</td>\n      <td>2</td>\n      <td>448</td>\n      <td>-2</td>\n    </tr>\n    <tr>\n      <th>2</th>\n      <td>3</td>\n      <td>55.0</td>\n      <td>72.8</td>\n      <td>9</td>\n      <td>1</td>\n      <td>2</td>\n      <td>456</td>\n      <td>-2</td>\n    </tr>\n    <tr>\n      <th>3</th>\n      <td>4</td>\n      <td>55.0</td>\n      <td>43.8</td>\n      <td>7</td>\n      <td>1</td>\n      <td>2</td>\n      <td>488</td>\n      <td>-4</td>\n    </tr>\n    <tr>\n      <th>4</th>\n      <td>4</td>\n      <td>55.0</td>\n      <td>198.1</td>\n      <td>11</td>\n      <td>1</td>\n      <td>2</td>\n      <td>482</td>\n      <td>-2</td>\n    </tr>\n    <tr>\n      <th>5</th>\n      <td>5</td>\n      <td>55.0</td>\n      <td>3.4</td>\n      <td>2</td>\n      <td>1</td>\n      <td>2</td>\n      <td>548</td>\n      <td>8</td>\n    </tr>\n    <tr>\n      <th>6</th>\n      <td>5</td>\n      <td>54.0</td>\n      <td>489.0</td>\n      <td>13</td>\n      <td>1</td>\n      <td>2</td>\n      <td>482</td>\n      <td>-4</td>\n    </tr>\n    <tr>\n      <th>7</th>\n      <td>6</td>\n      <td>55.0</td>\n      <td>7.3</td>\n      <td>4</td>\n      <td>1</td>\n      <td>2</td>\n      <td>482</td>\n      <td>4</td>\n    </tr>\n    <tr>\n      <th>8</th>\n      <td>6</td>\n      <td>55.0</td>\n      <td>299.5</td>\n      <td>12</td>\n      <td>1</td>\n      <td>2</td>\n      <td>444</td>\n      <td>4</td>\n    </tr>\n    <tr>\n      <th>9</th>\n      <td>7</td>\n      <td>55.0</td>\n      <td>18.7</td>\n      <td>5</td>\n      <td>1</td>\n      <td>2</td>\n      <td>516</td>\n      <td>0</td>\n    </tr>\n    <tr>\n      <th>10</th>\n      <td>7</td>\n      <td>55.0</td>\n      <td>57.9</td>\n      <td>8</td>\n      <td>1</td>\n      <td>2</td>\n      <td>488</td>\n      <td>6</td>\n    </tr>\n    <tr>\n      <th>11</th>\n      <td>8</td>\n      <td>55.0</td>\n      <td>3.5</td>\n      <td>3</td>\n      <td>1</td>\n      <td>2</td>\n      <td>468</td>\n      <td>8</td>\n    </tr>\n    <tr>\n      <th>12</th>\n      <td>8</td>\n      <td>55.0</td>\n      <td>3.2</td>\n      <td>1</td>\n      <td>1</td>\n      <td>2</td>\n      <td>546</td>\n      <td>4</td>\n    </tr>\n  </tbody>\n</table>\n</div>"
     },
     "metadata": {},
     "execution_count": 156
    }
   ],
   "source": [
    "test = processing_shutubatable(shutuba_df)\n",
    "test"
   ]
  },
  {
   "cell_type": "code",
   "execution_count": 157,
   "metadata": {},
   "outputs": [],
   "source": [
    "# モデルの読み込み\n",
    "import pickle\n",
    "filename=\"finalized_model.sav\"\n",
    "model = pickle.load(open(filename, 'rb'))"
   ]
  },
  {
   "cell_type": "code",
   "execution_count": 158,
   "metadata": {},
   "outputs": [
    {
     "output_type": "execute_result",
     "data": {
      "text/plain": [
       "array([[2.06448639e-01, 2.66764006e-01, 2.80585302e-01, 2.46202052e-01],\n",
       "       [6.39953427e-02, 1.44667998e-01, 2.26031758e-01, 5.65304901e-01],\n",
       "       [8.61430694e-02, 1.70978633e-01, 2.50338687e-01, 4.92539610e-01],\n",
       "       [1.64185459e-01, 2.32710384e-01, 2.87067485e-01, 3.16036672e-01],\n",
       "       [1.23186282e-02, 4.78987023e-02, 1.12260452e-01, 8.27522217e-01],\n",
       "       [3.86379072e-01, 2.95648983e-01, 2.36068019e-01, 8.19039257e-02],\n",
       "       [9.99572489e-05, 1.53882937e-03, 9.39229333e-03, 9.88968920e-01],\n",
       "       [3.02668418e-01, 2.91841346e-01, 2.71825259e-01, 1.33664978e-01],\n",
       "       [2.17209996e-03, 1.48136603e-02, 4.85862233e-02, 9.34428017e-01],\n",
       "       [2.60670013e-01, 2.74173909e-01, 2.86032615e-01, 1.79123463e-01],\n",
       "       [1.22212206e-01, 2.07262866e-01, 2.76212110e-01, 3.94312818e-01],\n",
       "       [3.36049868e-01, 2.98611183e-01, 2.61654491e-01, 1.03684458e-01],\n",
       "       [4.20002010e-01, 2.87004200e-01, 2.28692291e-01, 6.43014991e-02]])"
      ]
     },
     "metadata": {},
     "execution_count": 158
    }
   ],
   "source": [
    "model.predict_proba(test)"
   ]
  },
  {
   "cell_type": "code",
   "execution_count": 159,
   "metadata": {},
   "outputs": [
    {
     "output_type": "execute_result",
     "data": {
      "text/plain": [
       "array([3, 4, 4, 4, 4, 1, 4, 1, 4, 3, 4, 1, 1], dtype=int64)"
      ]
     },
     "metadata": {},
     "execution_count": 159
    }
   ],
   "source": [
    "# 予想\n",
    "model.predict(test)"
   ]
  },
  {
   "cell_type": "code",
   "execution_count": 160,
   "metadata": {},
   "outputs": [],
   "source": [
    "# 係数保存\n",
    "# import numpy as np\n",
    "coef = np.empty((len(test.index),4))\n",
    "for i in range(len(test.index)):\n",
    "    for t in range(4):\n",
    "        coef[i][t] = model.predict_proba(test)[i][t]"
   ]
  },
  {
   "cell_type": "code",
   "execution_count": 161,
   "metadata": {},
   "outputs": [
    {
     "output_type": "execute_result",
     "data": {
      "text/plain": [
       "array([[2.06448639e-01, 2.66764006e-01, 2.80585302e-01, 2.46202052e-01],\n",
       "       [6.39953427e-02, 1.44667998e-01, 2.26031758e-01, 5.65304901e-01],\n",
       "       [8.61430694e-02, 1.70978633e-01, 2.50338687e-01, 4.92539610e-01],\n",
       "       [1.64185459e-01, 2.32710384e-01, 2.87067485e-01, 3.16036672e-01],\n",
       "       [1.23186282e-02, 4.78987023e-02, 1.12260452e-01, 8.27522217e-01],\n",
       "       [3.86379072e-01, 2.95648983e-01, 2.36068019e-01, 8.19039257e-02],\n",
       "       [9.99572489e-05, 1.53882937e-03, 9.39229333e-03, 9.88968920e-01],\n",
       "       [3.02668418e-01, 2.91841346e-01, 2.71825259e-01, 1.33664978e-01],\n",
       "       [2.17209996e-03, 1.48136603e-02, 4.85862233e-02, 9.34428017e-01],\n",
       "       [2.60670013e-01, 2.74173909e-01, 2.86032615e-01, 1.79123463e-01],\n",
       "       [1.22212206e-01, 2.07262866e-01, 2.76212110e-01, 3.94312818e-01],\n",
       "       [3.36049868e-01, 2.98611183e-01, 2.61654491e-01, 1.03684458e-01],\n",
       "       [4.20002010e-01, 2.87004200e-01, 2.28692291e-01, 6.43014991e-02]])"
      ]
     },
     "metadata": {},
     "execution_count": 161
    }
   ],
   "source": [
    "coef"
   ]
  },
  {
   "source": [
    "## ソルバー"
   ],
   "cell_type": "markdown",
   "metadata": {}
  },
  {
   "cell_type": "code",
   "execution_count": 162,
   "metadata": {},
   "outputs": [
    {
     "output_type": "execute_result",
     "data": {
      "text/plain": [
       "array([0.75379795, 0.4346951 , 0.50746039, 0.68396333, 0.17247778,\n",
       "       0.91809607, 0.01103108, 0.86633502, 0.06557198, 0.82087654,\n",
       "       0.60568718, 0.89631554, 0.9356985 ])"
      ]
     },
     "metadata": {},
     "execution_count": 162
    }
   ],
   "source": [
    "w = coef[:,0]\n",
    "w\n",
    "v = coef[:,0] + coef[:,1] + coef[:,2]\n",
    "v"
   ]
  },
  {
   "cell_type": "code",
   "execution_count": 163,
   "metadata": {},
   "outputs": [
    {
     "output_type": "stream",
     "name": "stdout",
     "text": [
      "[単勝]\n番号:1 掛け金:0\n番号:2 掛け金:0\n番号:3 掛け金:0\n番号:4 掛け金:10000\n番号:5 掛け金:0\n番号:6 掛け金:0\n番号:7 掛け金:0\n番号:8 掛け金:0\n番号:9 掛け金:0\n番号:10 掛け金:0\n番号:11 掛け金:0\n番号:12 掛け金:0\n番号:13 掛け金:0\n[複勝]\n番号:1 掛け金:0\n番号:2 掛け金:0\n番号:3 掛け金:0\n番号:4 掛け金:0\n番号:5 掛け金:0\n番号:6 掛け金:0\n番号:7 掛け金:0\n番号:8 掛け金:0\n番号:9 掛け金:0\n番号:10 掛け金:0\n番号:11 掛け金:0\n番号:12 掛け金:0\n番号:13 掛け金:0\n\n目的関数:71913.2311912012\n"
     ]
    }
   ],
   "source": [
    "from pulp import *\n",
    "\n",
    "Max_Money = 10000  # 持ち金\n",
    "# 1位になる確率\n",
    "# w = [0.4, 0.3, 0.2]\n",
    "# 3位以内になる確率\n",
    "# v = [0.5, 0.4, 0.5]\n",
    "\n",
    "# 数理モデル\n",
    "m = pulp.LpProblem(sense=LpMaximize)\n",
    "# 変数\n",
    "r = range(len(w))\n",
    "# x = [pulp.LpVariable('x_{}'.format(i), cat=LpBinary) for i in r]\n",
    "x = [pulp.LpVariable('x%d' % i, lowBound=0, cat=LpInteger) for i in r]\n",
    "y = [pulp.LpVariable('y%d' % i, lowBound=0, cat=LpInteger) for i in r]\n",
    "\n",
    "# 目的関数\n",
    "# m += pulp.lpDot(w, x, odds_1) + pulp.lpDot(v, y, odds_1to3)\n",
    "m += pulp.lpSum(w[i] * x[i] * odds_1[i] + v[i] * y[i] * odds_1to3[i] for i in range(len(shutuba_df.index)))\n",
    "# m += pulp.lpSum([w[i], v[i]], [x[i], y[i]] for i in r)\n",
    "# 制約条件\n",
    "m += pulp.lpSum(x) + pulp.lpSum(y) <= Max_Money\n",
    "# 最適化計算\n",
    "m.solve()\n",
    "# 出力\n",
    "print(\"[単勝]\")\n",
    "for i in r:\n",
    "    print('番号:{} 掛け金:{}'.format(i+1, value(x[i])))\n",
    "print(\"[複勝]\")\n",
    "for i in r:\n",
    "    print('番号:{} 掛け金:{}'.format(i+1, value(y[i])))\n",
    "print('\\n目的関数:{}'.format(value(m.objective)))"
   ]
  },
  {
   "cell_type": "code",
   "execution_count": 164,
   "metadata": {},
   "outputs": [
    {
     "output_type": "execute_result",
     "data": {
      "text/plain": [
       "array([ 3.6,  8.2,  7.9,  5.1, 23.6,  1.2, 37.7,  1.7, 22.3,  3.3,  5. ,\n",
       "        1.2,  1.2])"
      ]
     },
     "metadata": {},
     "execution_count": 164
    }
   ],
   "source": [
    "odds_1to3"
   ]
  },
  {
   "cell_type": "code",
   "execution_count": null,
   "metadata": {},
   "outputs": [],
   "source": []
  }
 ]
}